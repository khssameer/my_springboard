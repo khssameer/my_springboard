{
 "cells": [
  {
   "cell_type": "code",
   "execution_count": 1,
   "metadata": {},
   "outputs": [],
   "source": [
    "# JSON exercise\n",
    "#Using data in file 'data/world_bank_projects.json' and the techniques demonstrated above,\n",
    "\n",
    "#Find the 10 countries with most projects\n",
    "#Find the top 10 major project themes (using column 'mjtheme_namecode')\n",
    "#In 2. above you will notice that some entries have only the code and the name is missing. Create a dataframe with the missing names filled in."
   ]
  },
  {
   "cell_type": "raw",
   "metadata": {},
   "source": [
    "#imports\n",
    "import json\n",
    "import pandas as pd\n",
    "\n",
    "json_file = 'world_bank_projects.json'\n",
    "df = pd.read_json(json_file)"
   ]
  },
  {
   "cell_type": "code",
   "execution_count": null,
   "metadata": {},
   "outputs": [],
   "source": [
    "#Find the top 10 major project themes (using column 'mjtheme_namecode')\n",
    "\n",
    "df_group_by_countyname = df.groupby('countryname')['countryname'].count();\n",
    "\n",
    "df_group_by_countyname_sorted = df_group_by_countyname.sort_values(ascending=False)\n",
    "\n",
    "print(df_group_by_countyname_sorted.head(10))"
   ]
  },
  {
   "cell_type": "code",
   "execution_count": null,
   "metadata": {},
   "outputs": [],
   "source": [
    "project_themes_list = []\n",
    "for line in df['mjtheme_namecode'] :\n",
    "    project_themes_list.append(line)\n",
    "\n",
    "project_themes_list_merged = []\n",
    "for l in project_themes_list :\n",
    "    project_themes_list_merged.extend(l)\n",
    "\n",
    "df_project_themes = pd.DataFrame(project_themes_list_merged)\n",
    "\n",
    "df_group_by_name_cnt = df_project_themes.groupby('name').count();\n",
    "\n",
    "df_group_by_name_cnt_sorted = df_group_by_name_cnt.sort_values(by=['code'],ascending=False)\n",
    "\n",
    "print(df_group_by_name_cnt_sorted.head(10))"
   ]
  },
  {
   "cell_type": "code",
   "execution_count": null,
   "metadata": {},
   "outputs": [],
   "source": []
  }
 ],
 "metadata": {
  "kernelspec": {
   "display_name": "Python 3",
   "language": "python",
   "name": "python3"
  },
  "language_info": {
   "codemirror_mode": {
    "name": "ipython",
    "version": 3
   },
   "file_extension": ".py",
   "mimetype": "text/x-python",
   "name": "python",
   "nbconvert_exporter": "python",
   "pygments_lexer": "ipython3",
   "version": "3.7.3"
  }
 },
 "nbformat": 4,
 "nbformat_minor": 2
}
