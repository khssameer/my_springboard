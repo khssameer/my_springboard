{
 "cells": [
  {
   "cell_type": "code",
   "execution_count": 1,
   "metadata": {},
   "outputs": [],
   "source": [
    "# JSON exercise\n",
    "#Using data in file 'data/world_bank_projects.json' and the techniques demonstrated above,\n",
    "\n",
    "#Find the 10 countries with most projects\n",
    "#Find the top 10 major project themes (using column 'mjtheme_namecode')\n",
    "#In 2. above you will notice that some entries have only the code and the name is missing. Create a dataframe with the missing names filled in."
   ]
  },
  {
   "cell_type": "code",
   "execution_count": 2,
   "metadata": {},
   "outputs": [],
   "source": [
    "#imports\n",
    "import json\n",
    "import pandas as pd\n",
    "import numpy as np\n",
    "\n",
    "json_file = 'world_bank_projects.json'\n",
    "df = pd.read_json(json_file)"
   ]
  },
  {
   "cell_type": "code",
   "execution_count": 3,
   "metadata": {},
   "outputs": [
    {
     "name": "stdout",
     "output_type": "stream",
     "text": [
      "countryname\n",
      "People's Republic of China         19\n",
      "Republic of Indonesia              19\n",
      "Socialist Republic of Vietnam      17\n",
      "Republic of India                  16\n",
      "Republic of Yemen                  13\n",
      "Nepal                              12\n",
      "People's Republic of Bangladesh    12\n",
      "Kingdom of Morocco                 12\n",
      "Africa                             11\n",
      "Republic of Mozambique             11\n",
      "Name: countryname, dtype: int64\n"
     ]
    }
   ],
   "source": [
    "#Find the 10 countries with most projects\n",
    "\n",
    "df_group_by_countyname = df.groupby('countryname')['countryname'].count();\n",
    "\n",
    "df_group_by_countyname_sorted = df_group_by_countyname.sort_values(ascending=False)\n",
    "\n",
    "print(df_group_by_countyname_sorted.head(10))"
   ]
  },
  {
   "cell_type": "code",
   "execution_count": 4,
   "metadata": {},
   "outputs": [
    {
     "name": "stdout",
     "output_type": "stream",
     "text": [
      "                                              code\n",
      "name                                              \n",
      "                                               122\n",
      "Economic management                             33\n",
      "Environment and natural resources management   223\n",
      "Financial and private sector development       130\n",
      "Human development                              197\n",
      "Public sector governance                       184\n",
      "Rule of law                                     12\n",
      "Rural development                              202\n",
      "Social dev/gender/inclusion                    119\n",
      "Social protection and risk management          158\n"
     ]
    }
   ],
   "source": [
    "#Find the top 10 major project themes (using column 'mjtheme_namecode')\n",
    "\n",
    "project_themes_list = []\n",
    "for line in df['mjtheme_namecode'] :\n",
    "    project_themes_list.append(line)\n",
    "\n",
    "project_themes_list_merged = []\n",
    "for l in project_themes_list :\n",
    "    project_themes_list_merged.extend(l)\n",
    "\n",
    "df_project_themes = pd.DataFrame(project_themes_list_merged)\n",
    "\n",
    "df_group_by_name_cnt = df_project_themes.groupby('name').count();\n",
    "\n",
    "\n",
    "print(df_group_by_name_cnt.head(10))"
   ]
  },
  {
   "cell_type": "code",
   "execution_count": 5,
   "metadata": {
    "scrolled": true
   },
   "outputs": [
    {
     "name": "stdout",
     "output_type": "stream",
     "text": [
      "Before Replacing : \n",
      "Contains Empty String ..\n",
      "After Replacing : \n",
      "Doesnt Contain Empty String ..\n"
     ]
    }
   ],
   "source": [
    "#In 2. above you will notice that some entries have only the code and the name is missing. Create a dataframe with the missing names filled in.\n",
    "\n",
    "df_project_themes_fill = pd.DataFrame(project_themes_list_merged)\n",
    "\n",
    "def CheckForEmptyString(ser) :\n",
    "    containsEmptyStr = False\n",
    "    for n in ser :\n",
    "        if(n == \"\"):\n",
    "            containsEmptyStr = True\n",
    "            break\n",
    "\n",
    "    if(containsEmptyStr == True):\n",
    "        print(\"Contains Empty String ..\")    \n",
    "    else :\n",
    "        print(\"Doesnt Contain Empty String ..\")\n",
    "    \n",
    "print(\"Before Replacing : \" )\n",
    "CheckForEmptyString(df_project_themes_fill['name'])\n",
    "\n",
    "df_project_themes_fill.replace(\"\", \"No Name\", inplace=True)\n",
    "\n",
    "print(\"After Replacing : \") \n",
    "CheckForEmptyString(df_project_themes_fill['name'])\n"
   ]
  },
  {
   "cell_type": "code",
   "execution_count": null,
   "metadata": {},
   "outputs": [],
   "source": []
  }
 ],
 "metadata": {
  "kernelspec": {
   "display_name": "Python 3",
   "language": "python",
   "name": "python3"
  },
  "language_info": {
   "codemirror_mode": {
    "name": "ipython",
    "version": 3
   },
   "file_extension": ".py",
   "mimetype": "text/x-python",
   "name": "python",
   "nbconvert_exporter": "python",
   "pygments_lexer": "ipython3",
   "version": "3.7.3"
  }
 },
 "nbformat": 4,
 "nbformat_minor": 2
}
