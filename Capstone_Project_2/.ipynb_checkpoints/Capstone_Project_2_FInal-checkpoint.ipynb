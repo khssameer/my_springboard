{
 "cells": [
  {
   "attachments": {},
   "cell_type": "markdown",
   "metadata": {},
   "source": [
    "# Recommendation systems \n",
    "\n",
    "A recommender system is a simple algorithm whose aim is to provide the most relevant information to a user by discovering patterns in a dataset. The algorithm rates the items and shows the user the items that they would rate highly. \n",
    "\n",
    "An example of recommendation in action is when you visit Amazon and you notice that some items are being recommended to you or when Netflix recommends certain movies to you. They are also used by Music streaming applications such as Spotify and Deezer to recommend music that you might like.\n",
    "\n",
    "![RecommenderSystem.png](RecommenderSystem.png)\n",
    "\n",
    "## The Need of Recommendation systems\n",
    "\n",
    "- With the huge number of choices available to users, there is a need for relevant information on items. Recommendation systems can study user preferences to prioritize and recommend items which the users would like.\n",
    "- Recommendations systems are a big value-add for large companies like Google, Amazon, Facebook, Netflix etc. as they drive significant customer engagement and revenue.\n",
    "- Most of the movies that users watch on Netflix, Amazon prime are from recommendation algorithms."
   ]
  },
  {
   "cell_type": "markdown",
   "metadata": {},
   "source": [
    "## Abstract :\n",
    "\n",
    "- Here in this project I want to focus on Book Recommendations.\n",
    "- I use dataset obtained from  http://www2.informatik.uni-freiburg.de/~cziegler/BX/\n",
    "\n",
    "Below are recommendation methods I would like to use and come up with predictions.\n",
    "\n",
    "#### Popularity-based.\n",
    "-\tGet the list of books based on popularity ratings.\n",
    "-\tSuggest most popular ones.\n",
    "\n",
    "#### Popularity-based.[localized to country and state]\n",
    "-\tGet the list of books based on popularity ratings in the country/state.\n",
    "-\tSuggest most popular ones in the country/state.\n",
    "\n",
    "#### Collaborative Filtering Based recommendations. \n",
    "- Memory-based: This approach uses the memory of previous users interactions to compute users similarities based on items they've interacted (user-based approach) or compute items similarities based on the users that have interacted with them (item-based approach).\n",
    "\n",
    "    -   Say we want to decide if we can recommend book1 to user1 .\n",
    "        -\tFind other k-Users with similar behavior as user1.\n",
    "        -\tUsing cosine similarity or Pearson correlations of users.\n",
    "        -\tFind the Weighted average of the ratings for the k-users for the book1.\n",
    "        -\tIf the rating obtained is higher then we can recommend book1 to user1. \n",
    "    \n",
    "- Model-based: This approach, models are developed using different machine learning algorithms to recommend items to users. There are many model-based CF algorithms, like neural networks, bayesian networks, clustering models, and latent factor models such as Singular Value Decomposition (SVD) and, probabilistic latent semantic analysis.\n",
    "    - Used scipy's suprise library to build the model\n",
    "\n",
    "#### Content Based recommendations.\n",
    "Say we want to decide if we can recommend book1 to user1.\n",
    "-\tFind other Users history of the ratings, for similar k-books.\n",
    "    -\tUsing cosine similarity or Pearson correlations of books.\n",
    "-\tFind the Weighted average of the ratings for the k-books by user1.\n",
    "-\tIf the rating obtained is higher than we can recommend book1 to user1. \n",
    "\n",
    "#### Hybrid Approach.\n",
    "-\tBrings together techniques implemented in the content based and collaborative filter based engines."
   ]
  },
  {
   "cell_type": "code",
   "execution_count": 1,
   "metadata": {},
   "outputs": [],
   "source": [
    "# imports\n",
    "\n",
    "import pandas as pd\n",
    "import numpy as np\n",
    "import matplotlib.pyplot as plt\n",
    "import seaborn as sns\n",
    "\n",
    "from scipy.sparse import csr_matrix\n",
    "\n",
    "from warnings import filterwarnings\n",
    "filterwarnings('ignore')"
   ]
  },
  {
   "cell_type": "markdown",
   "metadata": {},
   "source": [
    "## Loading Data"
   ]
  },
  {
   "cell_type": "code",
   "execution_count": 2,
   "metadata": {},
   "outputs": [
    {
     "name": "stdout",
     "output_type": "stream",
     "text": [
      "Index(['UserID', 'Location', 'Age'], dtype='object')\n"
     ]
    },
    {
     "name": "stderr",
     "output_type": "stream",
     "text": [
      "b'Skipping line 6452: expected 8 fields, saw 9\\nSkipping line 43667: expected 8 fields, saw 10\\nSkipping line 51751: expected 8 fields, saw 9\\n'\n",
      "b'Skipping line 92038: expected 8 fields, saw 9\\nSkipping line 104319: expected 8 fields, saw 9\\nSkipping line 121768: expected 8 fields, saw 9\\n'\n",
      "b'Skipping line 144058: expected 8 fields, saw 9\\nSkipping line 150789: expected 8 fields, saw 9\\nSkipping line 157128: expected 8 fields, saw 9\\nSkipping line 180189: expected 8 fields, saw 9\\nSkipping line 185738: expected 8 fields, saw 9\\n'\n",
      "b'Skipping line 209388: expected 8 fields, saw 9\\nSkipping line 220626: expected 8 fields, saw 9\\nSkipping line 227933: expected 8 fields, saw 11\\nSkipping line 228957: expected 8 fields, saw 10\\nSkipping line 245933: expected 8 fields, saw 9\\nSkipping line 251296: expected 8 fields, saw 9\\nSkipping line 259941: expected 8 fields, saw 9\\nSkipping line 261529: expected 8 fields, saw 9\\n'\n"
     ]
    },
    {
     "name": "stdout",
     "output_type": "stream",
     "text": [
      "Index(['ISBN', 'BookTitle', 'BookAuthor', 'YearOfPublication', 'Publisher',\n",
      "       'ImageURLS', 'ImageURLM', 'ImageURLL'],\n",
      "      dtype='object')\n",
      "Index(['UserID', 'ISBN', 'BookRating'], dtype='object')\n"
     ]
    }
   ],
   "source": [
    "# Load Data - Fix Column names , rmove any special character \n",
    "# Users Data\n",
    "Usercolumns = ['UserID', 'Location', 'Age']\n",
    "users_df = pd.read_csv('Data/BX-Users.csv',sep=';', encoding='latin-1')\n",
    "users_df.columns = Usercolumns\n",
    "print(users_df.columns)\n",
    "\n",
    "# Books Data\n",
    "Bookcolumns = ['ISBN', 'BookTitle', 'BookAuthor', 'YearOfPublication', 'Publisher',\n",
    "       'ImageURLS', 'ImageURLM', 'ImageURLL']\n",
    "books_df = pd.read_csv('Data/BX-Books.csv' , sep=';', encoding='latin-1', error_bad_lines=False)\n",
    "books_df.columns = Bookcolumns\n",
    "print(books_df.columns)\n",
    "# Ratings Data\n",
    "RatingsColumns = [\"UserID\",\"ISBN\",\"BookRating\"]\n",
    "ratings_df = pd.read_csv('Data/BX-Book-Ratings.csv' , sep=';', encoding='latin-1', error_bad_lines=False)\n",
    "ratings_df.columns = RatingsColumns\n",
    "print(ratings_df.columns)"
   ]
  },
  {
   "cell_type": "code",
   "execution_count": 3,
   "metadata": {},
   "outputs": [
    {
     "name": "stdout",
     "output_type": "stream",
     "text": [
      " Users DataFrame shape  (278858, 3)\n",
      " Books DataFrame shape  (271360, 8)\n",
      " Ratings DataFrame shape  (1149780, 3)\n"
     ]
    }
   ],
   "source": [
    "# Print Shapes.\n",
    "print(\" Users DataFrame shape \" , users_df.shape)\n",
    "print(\" Books DataFrame shape \" , books_df.shape)\n",
    "print(\" Ratings DataFrame shape \" , ratings_df.shape)"
   ]
  },
  {
   "cell_type": "markdown",
   "metadata": {},
   "source": [
    "## Data Wrangling"
   ]
  },
  {
   "cell_type": "markdown",
   "metadata": {},
   "source": [
    "### Users Data :\n",
    "#####  - Age column contains NaN value, fill this with mean of Ages from 10 - 90.\n",
    "#####  - Split the location information in to City , state and country . We may use in the analysis and Drop location column"
   ]
  },
  {
   "cell_type": "code",
   "execution_count": 4,
   "metadata": {},
   "outputs": [
    {
     "data": {
      "text/html": [
       "<div>\n",
       "<style scoped>\n",
       "    .dataframe tbody tr th:only-of-type {\n",
       "        vertical-align: middle;\n",
       "    }\n",
       "\n",
       "    .dataframe tbody tr th {\n",
       "        vertical-align: top;\n",
       "    }\n",
       "\n",
       "    .dataframe thead th {\n",
       "        text-align: right;\n",
       "    }\n",
       "</style>\n",
       "<table border=\"1\" class=\"dataframe\">\n",
       "  <thead>\n",
       "    <tr style=\"text-align: right;\">\n",
       "      <th></th>\n",
       "      <th>UserID</th>\n",
       "      <th>Location</th>\n",
       "      <th>Age</th>\n",
       "    </tr>\n",
       "  </thead>\n",
       "  <tbody>\n",
       "    <tr>\n",
       "      <th>0</th>\n",
       "      <td>1</td>\n",
       "      <td>nyc, new york, usa</td>\n",
       "      <td>NaN</td>\n",
       "    </tr>\n",
       "    <tr>\n",
       "      <th>1</th>\n",
       "      <td>2</td>\n",
       "      <td>stockton, california, usa</td>\n",
       "      <td>18.0</td>\n",
       "    </tr>\n",
       "    <tr>\n",
       "      <th>2</th>\n",
       "      <td>3</td>\n",
       "      <td>moscow, yukon territory, russia</td>\n",
       "      <td>NaN</td>\n",
       "    </tr>\n",
       "    <tr>\n",
       "      <th>3</th>\n",
       "      <td>4</td>\n",
       "      <td>porto, v.n.gaia, portugal</td>\n",
       "      <td>17.0</td>\n",
       "    </tr>\n",
       "    <tr>\n",
       "      <th>4</th>\n",
       "      <td>5</td>\n",
       "      <td>farnborough, hants, united kingdom</td>\n",
       "      <td>NaN</td>\n",
       "    </tr>\n",
       "  </tbody>\n",
       "</table>\n",
       "</div>"
      ],
      "text/plain": [
       "   UserID                            Location   Age\n",
       "0       1                  nyc, new york, usa   NaN\n",
       "1       2           stockton, california, usa  18.0\n",
       "2       3     moscow, yukon territory, russia   NaN\n",
       "3       4           porto, v.n.gaia, portugal  17.0\n",
       "4       5  farnborough, hants, united kingdom   NaN"
      ]
     },
     "execution_count": 4,
     "metadata": {},
     "output_type": "execute_result"
    }
   ],
   "source": [
    "# Lets Analyse Data in each Data Frame Independantly\n",
    "users_df.head()"
   ]
  },
  {
   "cell_type": "code",
   "execution_count": 5,
   "metadata": {},
   "outputs": [
    {
     "data": {
      "text/html": [
       "<div>\n",
       "<style scoped>\n",
       "    .dataframe tbody tr th:only-of-type {\n",
       "        vertical-align: middle;\n",
       "    }\n",
       "\n",
       "    .dataframe tbody tr th {\n",
       "        vertical-align: top;\n",
       "    }\n",
       "\n",
       "    .dataframe thead th {\n",
       "        text-align: right;\n",
       "    }\n",
       "</style>\n",
       "<table border=\"1\" class=\"dataframe\">\n",
       "  <thead>\n",
       "    <tr style=\"text-align: right;\">\n",
       "      <th></th>\n",
       "      <th>UserID</th>\n",
       "      <th>Location</th>\n",
       "      <th>Age</th>\n",
       "    </tr>\n",
       "  </thead>\n",
       "  <tbody>\n",
       "  </tbody>\n",
       "</table>\n",
       "</div>"
      ],
      "text/plain": [
       "Empty DataFrame\n",
       "Columns: [UserID, Location, Age]\n",
       "Index: []"
      ]
     },
     "execution_count": 5,
     "metadata": {},
     "output_type": "execute_result"
    }
   ],
   "source": [
    "# Fill \n",
    "#sorted(users_df.loc[: ,'Age'].unique())\n",
    "mean_age = np.mean(users_df.loc[(users_df['Age'] > 10) | (users_df['Age'] < 91),'Age'])\n",
    "users_df.Age.fillna(mean_age,inplace=True)\n",
    "users_df['Age'] = users_df.Age.astype(int)\n",
    "users_df.loc[(users_df['Age'] == np.NaN)]"
   ]
  },
  {
   "cell_type": "code",
   "execution_count": 6,
   "metadata": {},
   "outputs": [
    {
     "data": {
      "text/html": [
       "<div>\n",
       "<style scoped>\n",
       "    .dataframe tbody tr th:only-of-type {\n",
       "        vertical-align: middle;\n",
       "    }\n",
       "\n",
       "    .dataframe tbody tr th {\n",
       "        vertical-align: top;\n",
       "    }\n",
       "\n",
       "    .dataframe thead th {\n",
       "        text-align: right;\n",
       "    }\n",
       "</style>\n",
       "<table border=\"1\" class=\"dataframe\">\n",
       "  <thead>\n",
       "    <tr style=\"text-align: right;\">\n",
       "      <th></th>\n",
       "      <th>UserID</th>\n",
       "      <th>Age</th>\n",
       "      <th>City</th>\n",
       "      <th>State</th>\n",
       "      <th>Country</th>\n",
       "    </tr>\n",
       "  </thead>\n",
       "  <tbody>\n",
       "    <tr>\n",
       "      <th>0</th>\n",
       "      <td>1</td>\n",
       "      <td>34</td>\n",
       "      <td>nyc</td>\n",
       "      <td>new york</td>\n",
       "      <td>usa</td>\n",
       "    </tr>\n",
       "    <tr>\n",
       "      <th>1</th>\n",
       "      <td>2</td>\n",
       "      <td>18</td>\n",
       "      <td>stockton</td>\n",
       "      <td>california</td>\n",
       "      <td>usa</td>\n",
       "    </tr>\n",
       "    <tr>\n",
       "      <th>2</th>\n",
       "      <td>3</td>\n",
       "      <td>34</td>\n",
       "      <td>moscow</td>\n",
       "      <td>yukon territory</td>\n",
       "      <td>russia</td>\n",
       "    </tr>\n",
       "    <tr>\n",
       "      <th>3</th>\n",
       "      <td>4</td>\n",
       "      <td>17</td>\n",
       "      <td>porto</td>\n",
       "      <td>v.n.gaia</td>\n",
       "      <td>portugal</td>\n",
       "    </tr>\n",
       "    <tr>\n",
       "      <th>4</th>\n",
       "      <td>5</td>\n",
       "      <td>34</td>\n",
       "      <td>farnborough</td>\n",
       "      <td>hants</td>\n",
       "      <td>united kingdom</td>\n",
       "    </tr>\n",
       "    <tr>\n",
       "      <th>5</th>\n",
       "      <td>6</td>\n",
       "      <td>61</td>\n",
       "      <td>santa monica</td>\n",
       "      <td>california</td>\n",
       "      <td>usa</td>\n",
       "    </tr>\n",
       "    <tr>\n",
       "      <th>6</th>\n",
       "      <td>7</td>\n",
       "      <td>34</td>\n",
       "      <td>washington</td>\n",
       "      <td>dc</td>\n",
       "      <td>usa</td>\n",
       "    </tr>\n",
       "    <tr>\n",
       "      <th>7</th>\n",
       "      <td>8</td>\n",
       "      <td>34</td>\n",
       "      <td>timmins</td>\n",
       "      <td>ontario</td>\n",
       "      <td>canada</td>\n",
       "    </tr>\n",
       "    <tr>\n",
       "      <th>8</th>\n",
       "      <td>9</td>\n",
       "      <td>34</td>\n",
       "      <td>germantown</td>\n",
       "      <td>tennessee</td>\n",
       "      <td>usa</td>\n",
       "    </tr>\n",
       "    <tr>\n",
       "      <th>9</th>\n",
       "      <td>10</td>\n",
       "      <td>26</td>\n",
       "      <td>albacete</td>\n",
       "      <td>wisconsin</td>\n",
       "      <td>spain</td>\n",
       "    </tr>\n",
       "  </tbody>\n",
       "</table>\n",
       "</div>"
      ],
      "text/plain": [
       "   UserID  Age          City            State         Country\n",
       "0       1   34           nyc         new york             usa\n",
       "1       2   18      stockton       california             usa\n",
       "2       3   34        moscow  yukon territory          russia\n",
       "3       4   17         porto         v.n.gaia        portugal\n",
       "4       5   34   farnborough            hants  united kingdom\n",
       "5       6   61  santa monica       california             usa\n",
       "6       7   34    washington               dc             usa\n",
       "7       8   34       timmins          ontario          canada\n",
       "8       9   34    germantown        tennessee             usa\n",
       "9      10   26      albacete        wisconsin           spain"
      ]
     },
     "execution_count": 6,
     "metadata": {},
     "output_type": "execute_result"
    }
   ],
   "source": [
    "# Split the location information in to City , state and country . We may use in the analysis\n",
    "split_data = users_df[\"Location\"].str.split(\", \",3)\n",
    "data = split_data.to_list()\n",
    "new_df = pd.DataFrame(data)\n",
    "\n",
    "users_df[\"City\"] = new_df[0]\n",
    "users_df[\"State\"] = new_df[1]\n",
    "users_df[\"Country\"] = new_df[2]\n",
    "\n",
    "users_df.drop(['Location'], axis=1,inplace=True)\n",
    "users_df.head(10)"
   ]
  },
  {
   "cell_type": "markdown",
   "metadata": {},
   "source": [
    "### Books Data :\n",
    "#####  - We dont need URLs for data Analysis Lets drop them.\n",
    "#####  - YearOfPublication contains some invalid entries should fix it.\n",
    "#####  - There are many entried with Year-Of-Publication as 0 - is invalid, hence i will replace these values with mean of the values.\n",
    "#####  - in Publisher column change NaN entries to \"Other\""
   ]
  },
  {
   "cell_type": "code",
   "execution_count": 7,
   "metadata": {},
   "outputs": [
    {
     "data": {
      "text/html": [
       "<div>\n",
       "<style scoped>\n",
       "    .dataframe tbody tr th:only-of-type {\n",
       "        vertical-align: middle;\n",
       "    }\n",
       "\n",
       "    .dataframe tbody tr th {\n",
       "        vertical-align: top;\n",
       "    }\n",
       "\n",
       "    .dataframe thead th {\n",
       "        text-align: right;\n",
       "    }\n",
       "</style>\n",
       "<table border=\"1\" class=\"dataframe\">\n",
       "  <thead>\n",
       "    <tr style=\"text-align: right;\">\n",
       "      <th></th>\n",
       "      <th>ISBN</th>\n",
       "      <th>BookTitle</th>\n",
       "      <th>BookAuthor</th>\n",
       "      <th>YearOfPublication</th>\n",
       "      <th>Publisher</th>\n",
       "    </tr>\n",
       "  </thead>\n",
       "  <tbody>\n",
       "    <tr>\n",
       "      <th>0</th>\n",
       "      <td>0195153448</td>\n",
       "      <td>Classical Mythology</td>\n",
       "      <td>Mark P. O. Morford</td>\n",
       "      <td>2002</td>\n",
       "      <td>Oxford University Press</td>\n",
       "    </tr>\n",
       "    <tr>\n",
       "      <th>1</th>\n",
       "      <td>0002005018</td>\n",
       "      <td>Clara Callan</td>\n",
       "      <td>Richard Bruce Wright</td>\n",
       "      <td>2001</td>\n",
       "      <td>HarperFlamingo Canada</td>\n",
       "    </tr>\n",
       "    <tr>\n",
       "      <th>2</th>\n",
       "      <td>0060973129</td>\n",
       "      <td>Decision in Normandy</td>\n",
       "      <td>Carlo D'Este</td>\n",
       "      <td>1991</td>\n",
       "      <td>HarperPerennial</td>\n",
       "    </tr>\n",
       "    <tr>\n",
       "      <th>3</th>\n",
       "      <td>0374157065</td>\n",
       "      <td>Flu: The Story of the Great Influenza Pandemic...</td>\n",
       "      <td>Gina Bari Kolata</td>\n",
       "      <td>1999</td>\n",
       "      <td>Farrar Straus Giroux</td>\n",
       "    </tr>\n",
       "    <tr>\n",
       "      <th>4</th>\n",
       "      <td>0393045218</td>\n",
       "      <td>The Mummies of Urumchi</td>\n",
       "      <td>E. J. W. Barber</td>\n",
       "      <td>1999</td>\n",
       "      <td>W. W. Norton &amp;amp; Company</td>\n",
       "    </tr>\n",
       "  </tbody>\n",
       "</table>\n",
       "</div>"
      ],
      "text/plain": [
       "         ISBN                                          BookTitle  \\\n",
       "0  0195153448                                Classical Mythology   \n",
       "1  0002005018                                       Clara Callan   \n",
       "2  0060973129                               Decision in Normandy   \n",
       "3  0374157065  Flu: The Story of the Great Influenza Pandemic...   \n",
       "4  0393045218                             The Mummies of Urumchi   \n",
       "\n",
       "             BookAuthor YearOfPublication                   Publisher  \n",
       "0    Mark P. O. Morford              2002     Oxford University Press  \n",
       "1  Richard Bruce Wright              2001       HarperFlamingo Canada  \n",
       "2          Carlo D'Este              1991             HarperPerennial  \n",
       "3      Gina Bari Kolata              1999        Farrar Straus Giroux  \n",
       "4       E. J. W. Barber              1999  W. W. Norton &amp; Company  "
      ]
     },
     "execution_count": 7,
     "metadata": {},
     "output_type": "execute_result"
    }
   ],
   "source": [
    "# Above We see that some columns are dropped as there were errors.\n",
    "\n",
    "# We dont need URLs for data Analysis Lets drop them.\n",
    "books_df.drop(columns=['ImageURLS','ImageURLM' , 'ImageURLL'], axis=1, inplace=True)\n",
    "books_df.head()"
   ]
  },
  {
   "cell_type": "code",
   "execution_count": 8,
   "metadata": {},
   "outputs": [
    {
     "data": {
      "text/plain": [
       "array([2002, 2001, 1991, 1999, 2000, 1993, 1996, 1988, 2004, 1998, 1994,\n",
       "       2003, 1997, 1983, 1979, 1995, 1982, 1985, 1992, 1986, 1978, 1980,\n",
       "       1952, 1987, 1990, 1981, 1989, 1984, 0, 1968, 1961, 1958, 1974,\n",
       "       1976, 1971, 1977, 1975, 1965, 1941, 1970, 1962, 1973, 1972, 1960,\n",
       "       1966, 1920, 1956, 1959, 1953, 1951, 1942, 1963, 1964, 1969, 1954,\n",
       "       1950, 1967, 2005, 1957, 1940, 1937, 1955, 1946, 1936, 1930, 2011,\n",
       "       1925, 1948, 1943, 1947, 1945, 1923, 2020, 1939, 1926, 1938, 2030,\n",
       "       1911, 1904, 1949, 1932, 1928, 1929, 1927, 1931, 1914, 2050, 1934,\n",
       "       1910, 1933, 1902, 1924, 1921, 1900, 2038, 2026, 1944, 1917, 1901,\n",
       "       2010, 1908, 1906, 1935, 1806, 2021, '2000', '1995', '1999', '2004',\n",
       "       '2003', '1990', '1994', '1986', '1989', '2002', '1981', '1993',\n",
       "       '1983', '1982', '1976', '1991', '1977', '1998', '1992', '1996',\n",
       "       '0', '1997', '2001', '1974', '1968', '1987', '1984', '1988',\n",
       "       '1963', '1956', '1970', '1985', '1978', '1973', '1980', '1979',\n",
       "       '1975', '1969', '1961', '1965', '1939', '1958', '1950', '1953',\n",
       "       '1966', '1971', '1959', '1972', '1955', '1957', '1945', '1960',\n",
       "       '1967', '1932', '1924', '1964', '2012', '1911', '1927', '1948',\n",
       "       '1962', '2006', '1952', '1940', '1951', '1931', '1954', '2005',\n",
       "       '1930', '1941', '1944', 'DK Publishing Inc', '1943', '1938',\n",
       "       '1900', '1942', '1923', '1920', '1933', 'Gallimard', '1909',\n",
       "       '1946', '2008', '1378', '2030', '1936', '1947', '2011', '2020',\n",
       "       '1919', '1949', '1922', '1897', '2024', '1376', '1926', '2037'],\n",
       "      dtype=object)"
      ]
     },
     "execution_count": 8,
     "metadata": {},
     "output_type": "execute_result"
    }
   ],
   "source": [
    "# Lets analyse Year-Publication\n",
    "\n",
    "books_df['YearOfPublication'].unique()"
   ]
  },
  {
   "cell_type": "code",
   "execution_count": 9,
   "metadata": {},
   "outputs": [
    {
     "data": {
      "text/html": [
       "<div>\n",
       "<style scoped>\n",
       "    .dataframe tbody tr th:only-of-type {\n",
       "        vertical-align: middle;\n",
       "    }\n",
       "\n",
       "    .dataframe tbody tr th {\n",
       "        vertical-align: top;\n",
       "    }\n",
       "\n",
       "    .dataframe thead th {\n",
       "        text-align: right;\n",
       "    }\n",
       "</style>\n",
       "<table border=\"1\" class=\"dataframe\">\n",
       "  <thead>\n",
       "    <tr style=\"text-align: right;\">\n",
       "      <th></th>\n",
       "      <th>ISBN</th>\n",
       "      <th>BookTitle</th>\n",
       "      <th>BookAuthor</th>\n",
       "      <th>YearOfPublication</th>\n",
       "      <th>Publisher</th>\n",
       "    </tr>\n",
       "  </thead>\n",
       "  <tbody>\n",
       "    <tr>\n",
       "      <th>209538</th>\n",
       "      <td>078946697X</td>\n",
       "      <td>DK Readers: Creating the X-Men, How It All Began (Level 4: Proficient Readers)</td>\n",
       "      <td>Michael Teitelbaum</td>\n",
       "      <td>2000</td>\n",
       "      <td>DK Publishing Inc</td>\n",
       "    </tr>\n",
       "    <tr>\n",
       "      <th>221678</th>\n",
       "      <td>0789466953</td>\n",
       "      <td>DK Readers: Creating the X-Men, How Comic Books Come to Life (Level 4: Proficient Readers)</td>\n",
       "      <td>James Buckley</td>\n",
       "      <td>2000</td>\n",
       "      <td>DK Publishing Inc</td>\n",
       "    </tr>\n",
       "  </tbody>\n",
       "</table>\n",
       "</div>"
      ],
      "text/plain": [
       "              ISBN  \\\n",
       "209538  078946697X   \n",
       "221678  0789466953   \n",
       "\n",
       "                                                                                         BookTitle  \\\n",
       "209538  DK Readers: Creating the X-Men, How It All Began (Level 4: Proficient Readers)               \n",
       "221678  DK Readers: Creating the X-Men, How Comic Books Come to Life (Level 4: Proficient Readers)   \n",
       "\n",
       "                BookAuthor YearOfPublication          Publisher  \n",
       "209538  Michael Teitelbaum  2000              DK Publishing Inc  \n",
       "221678  James Buckley       2000              DK Publishing Inc  "
      ]
     },
     "execution_count": 9,
     "metadata": {},
     "output_type": "execute_result"
    }
   ],
   "source": [
    "# We can see some invalid years like 0 , 'DK Publishing Inc' , 'Gallimard' \n",
    "# Lets fix these issues and change this coloumn Data type to number\n",
    "pd.set_option('display.max_colwidth', -1)\n",
    "#print(books_df[books_df['Year-Of-Publication'] == 'DK Publishing Inc'])\n",
    "\n",
    "#books_df.loc[books_df['Year-Of-Publication'] == 'DK Publishing Inc',:]\n",
    "books_df.loc[209538]['BookTitle'] = \"DK Readers: Creating the X-Men, How It All Began (Level 4: Proficient Readers)\"\n",
    "books_df.loc[209538]['BookAuthor'] = \"Michael Teitelbaum\"\n",
    "books_df.loc[209538]['YearOfPublication'] = \"2000\"\n",
    "books_df.loc[209538]['Publisher'] = \"DK Publishing Inc\"\n",
    "\n",
    "books_df.loc[221678]['BookTitle'] = \"DK Readers: Creating the X-Men, How Comic Books Come to Life (Level 4: Proficient Readers)\"\n",
    "books_df.loc[221678]['BookAuthor'] = \"James Buckley\"\n",
    "books_df.loc[221678]['YearOfPublication'] = \"2000\"\n",
    "books_df.loc[221678]['Publisher'] = \"DK Publishing Inc\"\n",
    "\n",
    "books_df.loc[[209538,221678]]"
   ]
  },
  {
   "cell_type": "code",
   "execution_count": 10,
   "metadata": {},
   "outputs": [
    {
     "data": {
      "text/html": [
       "<div>\n",
       "<style scoped>\n",
       "    .dataframe tbody tr th:only-of-type {\n",
       "        vertical-align: middle;\n",
       "    }\n",
       "\n",
       "    .dataframe tbody tr th {\n",
       "        vertical-align: top;\n",
       "    }\n",
       "\n",
       "    .dataframe thead th {\n",
       "        text-align: right;\n",
       "    }\n",
       "</style>\n",
       "<table border=\"1\" class=\"dataframe\">\n",
       "  <thead>\n",
       "    <tr style=\"text-align: right;\">\n",
       "      <th></th>\n",
       "      <th>ISBN</th>\n",
       "      <th>BookTitle</th>\n",
       "      <th>BookAuthor</th>\n",
       "      <th>YearOfPublication</th>\n",
       "      <th>Publisher</th>\n",
       "    </tr>\n",
       "  </thead>\n",
       "  <tbody>\n",
       "    <tr>\n",
       "      <th>220731</th>\n",
       "      <td>2070426769</td>\n",
       "      <td>Peuple du ciel, suivi de 'Les Bergers</td>\n",
       "      <td>Jean-Marie Gustave Le</td>\n",
       "      <td>2003</td>\n",
       "      <td>Gallimard</td>\n",
       "    </tr>\n",
       "  </tbody>\n",
       "</table>\n",
       "</div>"
      ],
      "text/plain": [
       "              ISBN                              BookTitle  \\\n",
       "220731  2070426769  Peuple du ciel, suivi de 'Les Bergers   \n",
       "\n",
       "                   BookAuthor YearOfPublication  Publisher  \n",
       "220731  Jean-Marie Gustave Le  2003              Gallimard  "
      ]
     },
     "execution_count": 10,
     "metadata": {},
     "output_type": "execute_result"
    }
   ],
   "source": [
    "pd.set_option('display.max_colwidth', -1)\n",
    "#print(books_df[books_df['Year-Of-Publication'] == 'DK Publishing Inc'])\n",
    "\n",
    "books_df.loc[220731]['BookTitle'] = \"Peuple du ciel, suivi de 'Les Bergers\"\n",
    "books_df.loc[220731]['BookAuthor'] = \"Jean-Marie Gustave Le\"\n",
    "books_df.loc[220731]['YearOfPublication'] = \"2003\"\n",
    "books_df.loc[220731]['Publisher'] = \"Gallimard\"\n",
    "\n",
    "books_df.loc[[220731]]"
   ]
  },
  {
   "cell_type": "code",
   "execution_count": 11,
   "metadata": {
    "scrolled": true
   },
   "outputs": [
    {
     "name": "stdout",
     "output_type": "stream",
     "text": [
      "[0, 1376, 1378, 1806, 1897, 1900, 1901, 1902, 1904, 1906, 1908, 1909, 1910, 1911, 1914, 1917, 1919, 1920, 1921, 1922, 1923, 1924, 1925, 1926, 1927, 1928, 1929, 1930, 1931, 1932, 1933, 1934, 1935, 1936, 1937, 1938, 1939, 1940, 1941, 1942, 1943, 1944, 1945, 1946, 1947, 1948, 1949, 1950, 1951, 1952, 1953, 1954, 1955, 1956, 1957, 1958, 1959, 1960, 1961, 1962, 1963, 1964, 1965, 1966, 1967, 1968, 1969, 1970, 1971, 1972, 1973, 1974, 1975, 1976, 1977, 1978, 1979, 1980, 1981, 1982, 1983, 1984, 1985, 1986, 1987, 1988, 1989, 1990, 1991, 1992, 1993, 1994, 1995, 1996, 1997, 1998, 1999, 2000, 2001, 2002, 2003, 2004, 2005, 2006, 2008, 2010, 2011, 2012, 2020, 2021, 2024, 2026, 2030, 2037, 2038, 2050]\n",
      "ISBN                 4618\n",
      "BookTitle            4618\n",
      "BookAuthor           4618\n",
      "YearOfPublication    4618\n",
      "Publisher            4618\n",
      "dtype: int64\n"
     ]
    }
   ],
   "source": [
    "books_df['YearOfPublication'] = pd.to_numeric(books_df['YearOfPublication'])\n",
    "\n",
    "#books_df.dtypes\n",
    "\n",
    "print(sorted(books_df['YearOfPublication'].unique()))\n",
    "\n",
    "print(books_df[books_df['YearOfPublication'] == 0].count())"
   ]
  },
  {
   "cell_type": "code",
   "execution_count": 12,
   "metadata": {},
   "outputs": [
    {
     "name": "stdout",
     "output_type": "stream",
     "text": [
      "[1376, 1378, 1806, 1897, 1900, 1901, 1902, 1904, 1906, 1908, 1909, 1910, 1911, 1914, 1917, 1919, 1920, 1921, 1922, 1923, 1924, 1925, 1926, 1927, 1928, 1929, 1930, 1931, 1932, 1933, 1934, 1935, 1936, 1937, 1938, 1939, 1940, 1941, 1942, 1943, 1944, 1945, 1946, 1947, 1948, 1949, 1950, 1951, 1952, 1953, 1954, 1955, 1956, 1957, 1958, 1959, 1960, 1961, 1962, 1963, 1964, 1965, 1966, 1967, 1968, 1969, 1970, 1971, 1972, 1973, 1974, 1975, 1976, 1977, 1978, 1979, 1980, 1981, 1982, 1983, 1984, 1985, 1986, 1987, 1988, 1989, 1990, 1991, 1992, 1993, 1994, 1995, 1996, 1997, 1998, 1999, 2000, 2001, 2002, 2003, 2004, 2005, 2006, 2008, 2010, 2011, 2012, 2020, 2021, 2024, 2026, 2030, 2037, 2038, 2050]\n"
     ]
    }
   ],
   "source": [
    "# There are many entried with Year-Of-Publication as 0 , which is invalid, hence i will replace these values with mean of the values.\n",
    "\n",
    "books_df.loc[books_df['YearOfPublication'] == 0] = np.mean(books_df['YearOfPublication'])\n",
    "books_df['YearOfPublication'] = books_df['YearOfPublication'].astype(int)\n",
    "print(sorted(books_df['YearOfPublication'].unique()))"
   ]
  },
  {
   "cell_type": "code",
   "execution_count": 13,
   "metadata": {
    "scrolled": false
   },
   "outputs": [
    {
     "name": "stdout",
     "output_type": "stream",
     "text": [
      "Empty DataFrame\n",
      "Columns: [ISBN, BookTitle, BookAuthor, YearOfPublication, Publisher]\n",
      "Index: []\n"
     ]
    }
   ],
   "source": [
    "#print(books_df.loc[books_df['Publisher'].isna(),:])\n",
    "\n",
    "# We can see some HTML encoded strings like &amp; in 4th row\n",
    "books_df.loc[128890 : 'Publisher'] = 'Other' \n",
    "books_df.loc[129037 :'Publisher'] = 'Other' \n",
    "\n",
    "print(books_df.loc[books_df['Publisher'].isna(),:])"
   ]
  },
  {
   "cell_type": "markdown",
   "metadata": {},
   "source": [
    "### Ratings Data :\n",
    "#####  - In ratings check if the book and User exists in our users_df and books_df, else drop those records\n",
    "#####  - Some ratings are 0 in the BookRatings column which means those are implict ratings. We should use only explict ratings for recommendations."
   ]
  },
  {
   "cell_type": "code",
   "execution_count": 14,
   "metadata": {},
   "outputs": [
    {
     "name": "stdout",
     "output_type": "stream",
     "text": [
      " Ratings shape ealier :  (1149780, 3)\n",
      " Ratings shape After :  (813587, 3)\n"
     ]
    },
    {
     "data": {
      "text/html": [
       "<div>\n",
       "<style scoped>\n",
       "    .dataframe tbody tr th:only-of-type {\n",
       "        vertical-align: middle;\n",
       "    }\n",
       "\n",
       "    .dataframe tbody tr th {\n",
       "        vertical-align: top;\n",
       "    }\n",
       "\n",
       "    .dataframe thead th {\n",
       "        text-align: right;\n",
       "    }\n",
       "</style>\n",
       "<table border=\"1\" class=\"dataframe\">\n",
       "  <thead>\n",
       "    <tr style=\"text-align: right;\">\n",
       "      <th></th>\n",
       "      <th>UserID</th>\n",
       "      <th>ISBN</th>\n",
       "      <th>BookRating</th>\n",
       "    </tr>\n",
       "  </thead>\n",
       "  <tbody>\n",
       "    <tr>\n",
       "      <th>0</th>\n",
       "      <td>276725</td>\n",
       "      <td>034545104X</td>\n",
       "      <td>0</td>\n",
       "    </tr>\n",
       "    <tr>\n",
       "      <th>2</th>\n",
       "      <td>276727</td>\n",
       "      <td>0446520802</td>\n",
       "      <td>0</td>\n",
       "    </tr>\n",
       "    <tr>\n",
       "      <th>5</th>\n",
       "      <td>276733</td>\n",
       "      <td>2080674722</td>\n",
       "      <td>0</td>\n",
       "    </tr>\n",
       "    <tr>\n",
       "      <th>8</th>\n",
       "      <td>276744</td>\n",
       "      <td>038550120X</td>\n",
       "      <td>7</td>\n",
       "    </tr>\n",
       "    <tr>\n",
       "      <th>10</th>\n",
       "      <td>276746</td>\n",
       "      <td>0425115801</td>\n",
       "      <td>0</td>\n",
       "    </tr>\n",
       "  </tbody>\n",
       "</table>\n",
       "</div>"
      ],
      "text/plain": [
       "    UserID        ISBN  BookRating\n",
       "0   276725  034545104X  0         \n",
       "2   276727  0446520802  0         \n",
       "5   276733  2080674722  0         \n",
       "8   276744  038550120X  7         \n",
       "10  276746  0425115801  0         "
      ]
     },
     "execution_count": 14,
     "metadata": {},
     "output_type": "execute_result"
    }
   ],
   "source": [
    "# out these ratings check if the book and User exists in our users_df and books_df, retian on those records\n",
    "''' Running below method to remove the users rating takes huge time , method below that is pretty fast'''\n",
    "def KeepValidRatings(ratings_df) :\n",
    "    cnt = 0;\n",
    "    for i in range(len(ratings_df)) :\n",
    "        if ratings_df.loc[i]['UserID'] not in list(users_df['UserID']) or ratings_df.loc[i]['ISBN'] not in list(books_df['ISBN']) :\n",
    "            ratings_df.drop(index = i, axis=0,inplace=True)\n",
    "            #print(ratings_df.loc[i ,'User-ID'])\n",
    "            #print(ratings_df.loc[i]['User-ID'])\n",
    "            cnt = cnt + 1\n",
    "    print(\"Count : \" + str(cnt) )\n",
    "\n",
    "\n",
    "print(\" Ratings shape ealier : \",  ratings_df.shape)\n",
    "\n",
    "#users_df['UserID'] = users_df['User-ID']\n",
    "#ratings_df['UserID'] = ratings_df['User-ID']\n",
    "\n",
    "ratings_new = ratings_df[ratings_df.ISBN.isin(books_df.ISBN)]\n",
    "ratings_df = ratings_new[ratings_new.UserID.isin(users_df.UserID)]\n",
    "\n",
    "print( \" Ratings shape After : \" , ratings_df.shape)\n",
    "\n",
    "ratings_df.head()"
   ]
  },
  {
   "cell_type": "code",
   "execution_count": 15,
   "metadata": {},
   "outputs": [
    {
     "data": {
      "text/plain": [
       "array([ 0,  7,  9,  8,  6,  5, 10,  3,  4,  2,  1], dtype=int64)"
      ]
     },
     "execution_count": 15,
     "metadata": {},
     "output_type": "execute_result"
    }
   ],
   "source": [
    "ratings_df.BookRating.unique()"
   ]
  },
  {
   "cell_type": "code",
   "execution_count": 16,
   "metadata": {},
   "outputs": [
    {
     "data": {
      "text/html": [
       "<div>\n",
       "<style scoped>\n",
       "    .dataframe tbody tr th:only-of-type {\n",
       "        vertical-align: middle;\n",
       "    }\n",
       "\n",
       "    .dataframe tbody tr th {\n",
       "        vertical-align: top;\n",
       "    }\n",
       "\n",
       "    .dataframe thead th {\n",
       "        text-align: right;\n",
       "    }\n",
       "</style>\n",
       "<table border=\"1\" class=\"dataframe\">\n",
       "  <thead>\n",
       "    <tr style=\"text-align: right;\">\n",
       "      <th></th>\n",
       "      <th>UserID</th>\n",
       "      <th>ISBN</th>\n",
       "      <th>BookRating</th>\n",
       "    </tr>\n",
       "  </thead>\n",
       "  <tbody>\n",
       "    <tr>\n",
       "      <th>8</th>\n",
       "      <td>276744</td>\n",
       "      <td>038550120X</td>\n",
       "      <td>7</td>\n",
       "    </tr>\n",
       "    <tr>\n",
       "      <th>16</th>\n",
       "      <td>276747</td>\n",
       "      <td>0060517794</td>\n",
       "      <td>9</td>\n",
       "    </tr>\n",
       "    <tr>\n",
       "      <th>19</th>\n",
       "      <td>276747</td>\n",
       "      <td>0671537458</td>\n",
       "      <td>9</td>\n",
       "    </tr>\n",
       "    <tr>\n",
       "      <th>20</th>\n",
       "      <td>276747</td>\n",
       "      <td>0679776818</td>\n",
       "      <td>8</td>\n",
       "    </tr>\n",
       "    <tr>\n",
       "      <th>24</th>\n",
       "      <td>276748</td>\n",
       "      <td>0747558167</td>\n",
       "      <td>6</td>\n",
       "    </tr>\n",
       "  </tbody>\n",
       "</table>\n",
       "</div>"
      ],
      "text/plain": [
       "    UserID        ISBN  BookRating\n",
       "8   276744  038550120X  7         \n",
       "16  276747  0060517794  9         \n",
       "19  276747  0671537458  9         \n",
       "20  276747  0679776818  8         \n",
       "24  276748  0747558167  6         "
      ]
     },
     "execution_count": 16,
     "metadata": {},
     "output_type": "execute_result"
    }
   ],
   "source": [
    "# Ratings (`Book-Rating`) are either explicit, expressed on a scale from 1-10 (higher values denoting higher appreciation),\n",
    "# or implicit, expressed by 0.\n",
    "# Ratings are from 1 - 10 are explict ratings, we should use these for recommendations.\n",
    "\n",
    "#ratings_0 = ratings_df.loc[ratings_df.BookRating == 0]\n",
    "ratings_x = ratings_df.loc[ratings_df.BookRating != 0]\n",
    "\n",
    "#ratings_df = ratings_df.loc[ratings_df.UserID.isin(ratings_x.UserID)]\n",
    "ratings_df = ratings_x\n",
    "ratings_df.head()\n",
    "#ratings_df.reset_index()"
   ]
  },
  {
   "cell_type": "markdown",
   "metadata": {},
   "source": [
    "Now that We have cleaned up the users, books and ratings datasets.\n",
    "Below are final Datasets we have for recommendations."
   ]
  },
  {
   "cell_type": "code",
   "execution_count": 17,
   "metadata": {},
   "outputs": [
    {
     "name": "stdout",
     "output_type": "stream",
     "text": [
      "Users Dataset....\n",
      "   UserID  Age         City            State         Country\n",
      "0  1       34   nyc          new york         usa           \n",
      "1  2       18   stockton     california       usa           \n",
      "2  3       34   moscow       yukon territory  russia        \n",
      "3  4       17   porto        v.n.gaia         portugal      \n",
      "4  5       34   farnborough  hants            united kingdom\n",
      "Books Dataset....\n",
      "         ISBN  \\\n",
      "0  0195153448   \n",
      "1  0002005018   \n",
      "2  0060973129   \n",
      "3  0374157065   \n",
      "4  0393045218   \n",
      "\n",
      "                                                                                            BookTitle  \\\n",
      "0  Classical Mythology                                                                                  \n",
      "1  Clara Callan                                                                                         \n",
      "2  Decision in Normandy                                                                                 \n",
      "3  Flu: The Story of the Great Influenza Pandemic of 1918 and the Search for the Virus That Caused It   \n",
      "4  The Mummies of Urumchi                                                                               \n",
      "\n",
      "             BookAuthor YearOfPublication                   Publisher  \n",
      "0  Mark P. O. Morford    2002              Oxford University Press     \n",
      "1  Richard Bruce Wright  2001              HarperFlamingo Canada       \n",
      "2  Carlo D'Este          1991              HarperPerennial             \n",
      "3  Gina Bari Kolata      1999              Farrar Straus Giroux        \n",
      "4  E. J. W. Barber       1999              W. W. Norton &amp; Company  \n",
      "Ratings Dataset....\n",
      "    UserID        ISBN  BookRating\n",
      "8   276744  038550120X  7         \n",
      "16  276747  0060517794  9         \n",
      "19  276747  0671537458  9         \n",
      "20  276747  0679776818  8         \n",
      "24  276748  0747558167  6         \n"
     ]
    }
   ],
   "source": [
    "print(\"Users Dataset....\")\n",
    "print(users_df.head())\n",
    "print(\"Books Dataset....\")\n",
    "print(books_df.head())\n",
    "print(\"Ratings Dataset....\")\n",
    "print(ratings_df.head())"
   ]
  },
  {
   "cell_type": "markdown",
   "metadata": {},
   "source": [
    "## Data Clean UP\n",
    "##### - Facing memory related issues due to huge dataset\n",
    "##### - Create one data frame - with all required coloumns\n",
    "##### - Keep only the rows with users who have atleast rated 100 movies and movies atleast rated by 100 users."
   ]
  },
  {
   "cell_type": "code",
   "execution_count": 18,
   "metadata": {},
   "outputs": [
    {
     "name": "stdout",
     "output_type": "stream",
     "text": [
      "(68133, 3)\n",
      "(68133, 3)\n",
      "      UserID        ISBN  BookRating\n",
      "1456  277427  002542730X  10        \n",
      "1461  277427  0060006641  10        \n",
      "1465  277427  0060542128  7         \n",
      "1474  277427  0061009059  9         \n",
      "1488  277427  0140283374  6         \n"
     ]
    }
   ],
   "source": [
    "user_counts = ratings_df['UserID'].value_counts()\n",
    "ratings = ratings_df[ratings_df.UserID.isin(user_counts[user_counts >= 100].index)]\n",
    "\n",
    "print(ratings.shape)\n",
    "\n",
    "book_counts = ratings['BookRating'].value_counts()\n",
    "ratings = ratings[ratings.BookRating.isin(book_counts[book_counts >= 100].index)]\n",
    "\n",
    "print(ratings.shape)\n",
    "print(ratings.head())"
   ]
  },
  {
   "cell_type": "code",
   "execution_count": 19,
   "metadata": {},
   "outputs": [
    {
     "name": "stdout",
     "output_type": "stream",
     "text": [
      "(306, 40182)\n"
     ]
    },
    {
     "data": {
      "text/html": [
       "<div>\n",
       "<style scoped>\n",
       "    .dataframe tbody tr th:only-of-type {\n",
       "        vertical-align: middle;\n",
       "    }\n",
       "\n",
       "    .dataframe tbody tr th {\n",
       "        vertical-align: top;\n",
       "    }\n",
       "\n",
       "    .dataframe thead th {\n",
       "        text-align: right;\n",
       "    }\n",
       "</style>\n",
       "<table border=\"1\" class=\"dataframe\">\n",
       "  <thead>\n",
       "    <tr style=\"text-align: right;\">\n",
       "      <th>ISBN</th>\n",
       "      <th>000104687X</th>\n",
       "      <th>0001047213</th>\n",
       "      <th>0001047973</th>\n",
       "      <th>0001048082</th>\n",
       "      <th>0001056107</th>\n",
       "      <th>0001845039</th>\n",
       "      <th>0001953877</th>\n",
       "      <th>0002005018</th>\n",
       "      <th>0002005050</th>\n",
       "      <th>0002006588</th>\n",
       "      <th>...</th>\n",
       "      <th>9997409728</th>\n",
       "      <th>9997411757</th>\n",
       "      <th>999750805X</th>\n",
       "      <th>9997519086</th>\n",
       "      <th>9997555635</th>\n",
       "      <th>9998914140</th>\n",
       "      <th>B00001U0CP</th>\n",
       "      <th>B00008RWPV</th>\n",
       "      <th>B00009NDAN</th>\n",
       "      <th>B0000VZEJQ</th>\n",
       "    </tr>\n",
       "    <tr>\n",
       "      <th>UserID</th>\n",
       "      <th></th>\n",
       "      <th></th>\n",
       "      <th></th>\n",
       "      <th></th>\n",
       "      <th></th>\n",
       "      <th></th>\n",
       "      <th></th>\n",
       "      <th></th>\n",
       "      <th></th>\n",
       "      <th></th>\n",
       "      <th></th>\n",
       "      <th></th>\n",
       "      <th></th>\n",
       "      <th></th>\n",
       "      <th></th>\n",
       "      <th></th>\n",
       "      <th></th>\n",
       "      <th></th>\n",
       "      <th></th>\n",
       "      <th></th>\n",
       "      <th></th>\n",
       "    </tr>\n",
       "  </thead>\n",
       "  <tbody>\n",
       "    <tr>\n",
       "      <th>2033</th>\n",
       "      <td>0.0</td>\n",
       "      <td>0.0</td>\n",
       "      <td>0.0</td>\n",
       "      <td>0.0</td>\n",
       "      <td>0.0</td>\n",
       "      <td>0.0</td>\n",
       "      <td>0.0</td>\n",
       "      <td>0.0</td>\n",
       "      <td>0.0</td>\n",
       "      <td>0.0</td>\n",
       "      <td>...</td>\n",
       "      <td>0.0</td>\n",
       "      <td>0.0</td>\n",
       "      <td>0.0</td>\n",
       "      <td>0.0</td>\n",
       "      <td>0.0</td>\n",
       "      <td>0.0</td>\n",
       "      <td>0.0</td>\n",
       "      <td>0.0</td>\n",
       "      <td>0.0</td>\n",
       "      <td>0.0</td>\n",
       "    </tr>\n",
       "    <tr>\n",
       "      <th>2110</th>\n",
       "      <td>0.0</td>\n",
       "      <td>0.0</td>\n",
       "      <td>0.0</td>\n",
       "      <td>0.0</td>\n",
       "      <td>0.0</td>\n",
       "      <td>0.0</td>\n",
       "      <td>0.0</td>\n",
       "      <td>0.0</td>\n",
       "      <td>0.0</td>\n",
       "      <td>0.0</td>\n",
       "      <td>...</td>\n",
       "      <td>0.0</td>\n",
       "      <td>0.0</td>\n",
       "      <td>0.0</td>\n",
       "      <td>0.0</td>\n",
       "      <td>0.0</td>\n",
       "      <td>0.0</td>\n",
       "      <td>0.0</td>\n",
       "      <td>0.0</td>\n",
       "      <td>0.0</td>\n",
       "      <td>0.0</td>\n",
       "    </tr>\n",
       "    <tr>\n",
       "      <th>2276</th>\n",
       "      <td>0.0</td>\n",
       "      <td>0.0</td>\n",
       "      <td>0.0</td>\n",
       "      <td>0.0</td>\n",
       "      <td>0.0</td>\n",
       "      <td>0.0</td>\n",
       "      <td>0.0</td>\n",
       "      <td>0.0</td>\n",
       "      <td>0.0</td>\n",
       "      <td>0.0</td>\n",
       "      <td>...</td>\n",
       "      <td>0.0</td>\n",
       "      <td>0.0</td>\n",
       "      <td>0.0</td>\n",
       "      <td>0.0</td>\n",
       "      <td>0.0</td>\n",
       "      <td>0.0</td>\n",
       "      <td>0.0</td>\n",
       "      <td>0.0</td>\n",
       "      <td>0.0</td>\n",
       "      <td>0.0</td>\n",
       "    </tr>\n",
       "    <tr>\n",
       "      <th>4017</th>\n",
       "      <td>0.0</td>\n",
       "      <td>0.0</td>\n",
       "      <td>0.0</td>\n",
       "      <td>0.0</td>\n",
       "      <td>0.0</td>\n",
       "      <td>0.0</td>\n",
       "      <td>0.0</td>\n",
       "      <td>0.0</td>\n",
       "      <td>0.0</td>\n",
       "      <td>0.0</td>\n",
       "      <td>...</td>\n",
       "      <td>0.0</td>\n",
       "      <td>0.0</td>\n",
       "      <td>0.0</td>\n",
       "      <td>0.0</td>\n",
       "      <td>0.0</td>\n",
       "      <td>0.0</td>\n",
       "      <td>0.0</td>\n",
       "      <td>0.0</td>\n",
       "      <td>0.0</td>\n",
       "      <td>0.0</td>\n",
       "    </tr>\n",
       "    <tr>\n",
       "      <th>4385</th>\n",
       "      <td>0.0</td>\n",
       "      <td>0.0</td>\n",
       "      <td>0.0</td>\n",
       "      <td>0.0</td>\n",
       "      <td>0.0</td>\n",
       "      <td>0.0</td>\n",
       "      <td>0.0</td>\n",
       "      <td>0.0</td>\n",
       "      <td>0.0</td>\n",
       "      <td>0.0</td>\n",
       "      <td>...</td>\n",
       "      <td>0.0</td>\n",
       "      <td>0.0</td>\n",
       "      <td>0.0</td>\n",
       "      <td>0.0</td>\n",
       "      <td>0.0</td>\n",
       "      <td>0.0</td>\n",
       "      <td>0.0</td>\n",
       "      <td>0.0</td>\n",
       "      <td>0.0</td>\n",
       "      <td>0.0</td>\n",
       "    </tr>\n",
       "  </tbody>\n",
       "</table>\n",
       "<p>5 rows × 40182 columns</p>\n",
       "</div>"
      ],
      "text/plain": [
       "ISBN    000104687X  0001047213  0001047973  0001048082  0001056107  \\\n",
       "UserID                                                               \n",
       "2033    0.0         0.0         0.0         0.0         0.0          \n",
       "2110    0.0         0.0         0.0         0.0         0.0          \n",
       "2276    0.0         0.0         0.0         0.0         0.0          \n",
       "4017    0.0         0.0         0.0         0.0         0.0          \n",
       "4385    0.0         0.0         0.0         0.0         0.0          \n",
       "\n",
       "ISBN    0001845039  0001953877  0002005018  0002005050  0002006588  ...  \\\n",
       "UserID                                                              ...   \n",
       "2033    0.0         0.0         0.0         0.0         0.0         ...   \n",
       "2110    0.0         0.0         0.0         0.0         0.0         ...   \n",
       "2276    0.0         0.0         0.0         0.0         0.0         ...   \n",
       "4017    0.0         0.0         0.0         0.0         0.0         ...   \n",
       "4385    0.0         0.0         0.0         0.0         0.0         ...   \n",
       "\n",
       "ISBN    9997409728  9997411757  999750805X  9997519086  9997555635  \\\n",
       "UserID                                                               \n",
       "2033    0.0         0.0         0.0         0.0         0.0          \n",
       "2110    0.0         0.0         0.0         0.0         0.0          \n",
       "2276    0.0         0.0         0.0         0.0         0.0          \n",
       "4017    0.0         0.0         0.0         0.0         0.0          \n",
       "4385    0.0         0.0         0.0         0.0         0.0          \n",
       "\n",
       "ISBN    9998914140  B00001U0CP  B00008RWPV  B00009NDAN  B0000VZEJQ  \n",
       "UserID                                                              \n",
       "2033    0.0         0.0         0.0         0.0         0.0         \n",
       "2110    0.0         0.0         0.0         0.0         0.0         \n",
       "2276    0.0         0.0         0.0         0.0         0.0         \n",
       "4017    0.0         0.0         0.0         0.0         0.0         \n",
       "4385    0.0         0.0         0.0         0.0         0.0         \n",
       "\n",
       "[5 rows x 40182 columns]"
      ]
     },
     "execution_count": 19,
     "metadata": {},
     "output_type": "execute_result"
    }
   ],
   "source": [
    "rating_matrix = ratings.pivot(index='UserID',columns='ISBN',values='BookRating').fillna(0)\n",
    "mat_book_features = csr_matrix(rating_matrix.values)\n",
    "\n",
    "print(rating_matrix.shape)\n",
    "rating_matrix.head()"
   ]
  },
  {
   "cell_type": "markdown",
   "metadata": {},
   "source": [
    "## Visualizations"
   ]
  },
  {
   "cell_type": "code",
   "execution_count": 20,
   "metadata": {},
   "outputs": [
    {
     "data": {
      "image/png": "[encoded data removed]",
      "text/plain": [
       "<Figure size 432x288 with 1 Axes>"
      ]
     },
     "metadata": {
      "needs_background": "light"
     },
     "output_type": "display_data"
    }
   ],
   "source": [
    "sns.countplot(ratings_df.BookRating)\n",
    "plt.show()"
   ]
  },
  {
   "cell_type": "code",
   "execution_count": 21,
   "metadata": {},
   "outputs": [
    {
     "data": {
      "image/png": "[encoded data removed]",
      "text/plain": [
       "<Figure size 432x288 with 1 Axes>"
      ]
     },
     "metadata": {
      "needs_background": "light"
     },
     "output_type": "display_data"
    }
   ],
   "source": [
    "ratings_df.BookRating.hist()\n",
    "plt.show()"
   ]
  },
  {
   "cell_type": "code",
   "execution_count": 22,
   "metadata": {
    "scrolled": false
   },
   "outputs": [
    {
     "data": {
      "image/png": "[encoded data removed]",
      "text/plain": [
       "<Figure size 1152x432 with 1 Axes>"
      ]
     },
     "metadata": {
      "needs_background": "light"
     },
     "output_type": "display_data"
    }
   ],
   "source": [
    "wavg = ratings_df.sort_values('BookRating', ascending=False)\n",
    "\n",
    "plt.figure(figsize=(16,6))\n",
    "\n",
    "ax = sns.barplot(x=wavg['BookRating'].head(100), y=wavg['ISBN'].head(10), data=wavg, palette='deep')\n",
    "\n",
    "plt.title('\"Best\" Books by Ratings', weight='bold')\n",
    "plt.xlabel('Weighted Average Score', weight='bold')\n",
    "plt.ylabel('Book ISBN', weight='bold')\n",
    "plt.show()"
   ]
  },
  {
   "cell_type": "markdown",
   "metadata": {},
   "source": [
    "## Recommendation Models"
   ]
  },
  {
   "cell_type": "markdown",
   "metadata": {},
   "source": [
    "### Popularity Based Recommendation\n",
    "\n",
    "#### These is memory based recommendations , based on querying the dataset\n",
    "> Get the list of books based on popularity ratings.\n",
    "> Suggest most popular ones.\n",
    "\n",
    "> We can also use the columns like \"State\" and \"Country\" to provide list of recomendations"
   ]
  },
  {
   "cell_type": "code",
   "execution_count": 23,
   "metadata": {},
   "outputs": [
    {
     "data": {
      "text/html": [
       "<div>\n",
       "<style scoped>\n",
       "    .dataframe tbody tr th:only-of-type {\n",
       "        vertical-align: middle;\n",
       "    }\n",
       "\n",
       "    .dataframe tbody tr th {\n",
       "        vertical-align: top;\n",
       "    }\n",
       "\n",
       "    .dataframe thead th {\n",
       "        text-align: right;\n",
       "    }\n",
       "</style>\n",
       "<table border=\"1\" class=\"dataframe\">\n",
       "  <thead>\n",
       "    <tr style=\"text-align: right;\">\n",
       "      <th></th>\n",
       "      <th>ISBN</th>\n",
       "      <th>BookRating</th>\n",
       "      <th>BookTitle</th>\n",
       "      <th>BookAuthor</th>\n",
       "      <th>YearOfPublication</th>\n",
       "      <th>Publisher</th>\n",
       "    </tr>\n",
       "  </thead>\n",
       "  <tbody>\n",
       "    <tr>\n",
       "      <th>0</th>\n",
       "      <td>0316666343</td>\n",
       "      <td>5787</td>\n",
       "      <td>The Lovely Bones: A Novel</td>\n",
       "      <td>Alice Sebold</td>\n",
       "      <td>2002</td>\n",
       "      <td>Little, Brown</td>\n",
       "    </tr>\n",
       "    <tr>\n",
       "      <th>1</th>\n",
       "      <td>0385504209</td>\n",
       "      <td>4108</td>\n",
       "      <td>The Da Vinci Code</td>\n",
       "      <td>Dan Brown</td>\n",
       "      <td>2003</td>\n",
       "      <td>Doubleday</td>\n",
       "    </tr>\n",
       "    <tr>\n",
       "      <th>2</th>\n",
       "      <td>0312195516</td>\n",
       "      <td>3134</td>\n",
       "      <td>The Red Tent (Bestselling Backlist)</td>\n",
       "      <td>Anita Diamant</td>\n",
       "      <td>1998</td>\n",
       "      <td>Picador USA</td>\n",
       "    </tr>\n",
       "    <tr>\n",
       "      <th>3</th>\n",
       "      <td>059035342X</td>\n",
       "      <td>2798</td>\n",
       "      <td>Harry Potter and the Sorcerer's Stone (Harry Potter (Paperback))</td>\n",
       "      <td>J. K. Rowling</td>\n",
       "      <td>1999</td>\n",
       "      <td>Arthur A. Levine Books</td>\n",
       "    </tr>\n",
       "    <tr>\n",
       "      <th>4</th>\n",
       "      <td>0142001740</td>\n",
       "      <td>2595</td>\n",
       "      <td>The Secret Life of Bees</td>\n",
       "      <td>Sue Monk Kidd</td>\n",
       "      <td>2003</td>\n",
       "      <td>Penguin Books</td>\n",
       "    </tr>\n",
       "    <tr>\n",
       "      <th>5</th>\n",
       "      <td>0971880107</td>\n",
       "      <td>2551</td>\n",
       "      <td>Wild Animus</td>\n",
       "      <td>Rich Shapero</td>\n",
       "      <td>2004</td>\n",
       "      <td>Too Far</td>\n",
       "    </tr>\n",
       "    <tr>\n",
       "      <th>6</th>\n",
       "      <td>0060928336</td>\n",
       "      <td>2524</td>\n",
       "      <td>Divine Secrets of the Ya-Ya Sisterhood: A Novel</td>\n",
       "      <td>Rebecca Wells</td>\n",
       "      <td>1997</td>\n",
       "      <td>Perennial</td>\n",
       "    </tr>\n",
       "    <tr>\n",
       "      <th>7</th>\n",
       "      <td>0446672211</td>\n",
       "      <td>2402</td>\n",
       "      <td>Where the Heart Is (Oprah's Book Club (Paperback))</td>\n",
       "      <td>Billie Letts</td>\n",
       "      <td>1998</td>\n",
       "      <td>Warner Books</td>\n",
       "    </tr>\n",
       "    <tr>\n",
       "      <th>8</th>\n",
       "      <td>0452282152</td>\n",
       "      <td>2219</td>\n",
       "      <td>Girl with a Pearl Earring</td>\n",
       "      <td>Tracy Chevalier</td>\n",
       "      <td>2001</td>\n",
       "      <td>Plume Books</td>\n",
       "    </tr>\n",
       "    <tr>\n",
       "      <th>9</th>\n",
       "      <td>0671027360</td>\n",
       "      <td>2179</td>\n",
       "      <td>Angels &amp;amp; Demons</td>\n",
       "      <td>Dan Brown</td>\n",
       "      <td>2001</td>\n",
       "      <td>Pocket Star</td>\n",
       "    </tr>\n",
       "  </tbody>\n",
       "</table>\n",
       "</div>"
      ],
      "text/plain": [
       "         ISBN  BookRating  \\\n",
       "0  0316666343  5787         \n",
       "1  0385504209  4108         \n",
       "2  0312195516  3134         \n",
       "3  059035342X  2798         \n",
       "4  0142001740  2595         \n",
       "5  0971880107  2551         \n",
       "6  0060928336  2524         \n",
       "7  0446672211  2402         \n",
       "8  0452282152  2219         \n",
       "9  0671027360  2179         \n",
       "\n",
       "                                                          BookTitle  \\\n",
       "0  The Lovely Bones: A Novel                                          \n",
       "1  The Da Vinci Code                                                  \n",
       "2  The Red Tent (Bestselling Backlist)                                \n",
       "3  Harry Potter and the Sorcerer's Stone (Harry Potter (Paperback))   \n",
       "4  The Secret Life of Bees                                            \n",
       "5  Wild Animus                                                        \n",
       "6  Divine Secrets of the Ya-Ya Sisterhood: A Novel                    \n",
       "7  Where the Heart Is (Oprah's Book Club (Paperback))                 \n",
       "8  Girl with a Pearl Earring                                          \n",
       "9  Angels &amp; Demons                                                \n",
       "\n",
       "        BookAuthor YearOfPublication               Publisher  \n",
       "0  Alice Sebold     2002              Little, Brown           \n",
       "1  Dan Brown        2003              Doubleday               \n",
       "2  Anita Diamant    1998              Picador USA             \n",
       "3  J. K. Rowling    1999              Arthur A. Levine Books  \n",
       "4  Sue Monk Kidd    2003              Penguin Books           \n",
       "5  Rich Shapero     2004              Too Far                 \n",
       "6  Rebecca Wells    1997              Perennial               \n",
       "7  Billie Letts     1998              Warner Books            \n",
       "8  Tracy Chevalier  2001              Plume Books             \n",
       "9  Dan Brown        2001              Pocket Star             "
      ]
     },
     "execution_count": 23,
     "metadata": {},
     "output_type": "execute_result"
    }
   ],
   "source": [
    "top10_books_ISBN = pd.DataFrame(ratings_df.groupby(by='ISBN')['BookRating'].sum())\n",
    "top10_books_ISBN.sort_values('BookRating',ascending=False,inplace=True)\n",
    "top10_books_Pop_based = pd.merge(top10_books_ISBN,books_df,on='ISBN')\n",
    "\n",
    "top10_books_Pop_based.head(10)"
   ]
  },
  {
   "cell_type": "code",
   "execution_count": 24,
   "metadata": {},
   "outputs": [
    {
     "data": {
      "text/html": [
       "<div>\n",
       "<style scoped>\n",
       "    .dataframe tbody tr th:only-of-type {\n",
       "        vertical-align: middle;\n",
       "    }\n",
       "\n",
       "    .dataframe tbody tr th {\n",
       "        vertical-align: top;\n",
       "    }\n",
       "\n",
       "    .dataframe thead th {\n",
       "        text-align: right;\n",
       "    }\n",
       "</style>\n",
       "<table border=\"1\" class=\"dataframe\">\n",
       "  <thead>\n",
       "    <tr style=\"text-align: right;\">\n",
       "      <th></th>\n",
       "      <th>ISBN</th>\n",
       "      <th>BookRating</th>\n",
       "      <th>BookTitle</th>\n",
       "      <th>BookAuthor</th>\n",
       "      <th>YearOfPublication</th>\n",
       "      <th>Publisher</th>\n",
       "    </tr>\n",
       "  </thead>\n",
       "  <tbody>\n",
       "    <tr>\n",
       "      <th>0</th>\n",
       "      <td>0316666343</td>\n",
       "      <td>4348</td>\n",
       "      <td>The Lovely Bones: A Novel</td>\n",
       "      <td>Alice Sebold</td>\n",
       "      <td>2002</td>\n",
       "      <td>Little, Brown</td>\n",
       "    </tr>\n",
       "    <tr>\n",
       "      <th>1</th>\n",
       "      <td>0385504209</td>\n",
       "      <td>3320</td>\n",
       "      <td>The Da Vinci Code</td>\n",
       "      <td>Dan Brown</td>\n",
       "      <td>2003</td>\n",
       "      <td>Doubleday</td>\n",
       "    </tr>\n",
       "    <tr>\n",
       "      <th>2</th>\n",
       "      <td>0312195516</td>\n",
       "      <td>2457</td>\n",
       "      <td>The Red Tent (Bestselling Backlist)</td>\n",
       "      <td>Anita Diamant</td>\n",
       "      <td>1998</td>\n",
       "      <td>Picador USA</td>\n",
       "    </tr>\n",
       "    <tr>\n",
       "      <th>3</th>\n",
       "      <td>059035342X</td>\n",
       "      <td>2400</td>\n",
       "      <td>Harry Potter and the Sorcerer's Stone (Harry Potter (Paperback))</td>\n",
       "      <td>J. K. Rowling</td>\n",
       "      <td>1999</td>\n",
       "      <td>Arthur A. Levine Books</td>\n",
       "    </tr>\n",
       "    <tr>\n",
       "      <th>4</th>\n",
       "      <td>0142001740</td>\n",
       "      <td>2296</td>\n",
       "      <td>The Secret Life of Bees</td>\n",
       "      <td>Sue Monk Kidd</td>\n",
       "      <td>2003</td>\n",
       "      <td>Penguin Books</td>\n",
       "    </tr>\n",
       "    <tr>\n",
       "      <th>5</th>\n",
       "      <td>0060928336</td>\n",
       "      <td>2120</td>\n",
       "      <td>Divine Secrets of the Ya-Ya Sisterhood: A Novel</td>\n",
       "      <td>Rebecca Wells</td>\n",
       "      <td>1997</td>\n",
       "      <td>Perennial</td>\n",
       "    </tr>\n",
       "    <tr>\n",
       "      <th>6</th>\n",
       "      <td>0446672211</td>\n",
       "      <td>1847</td>\n",
       "      <td>Where the Heart Is (Oprah's Book Club (Paperback))</td>\n",
       "      <td>Billie Letts</td>\n",
       "      <td>1998</td>\n",
       "      <td>Warner Books</td>\n",
       "    </tr>\n",
       "    <tr>\n",
       "      <th>7</th>\n",
       "      <td>0671027360</td>\n",
       "      <td>1831</td>\n",
       "      <td>Angels &amp;amp; Demons</td>\n",
       "      <td>Dan Brown</td>\n",
       "      <td>2001</td>\n",
       "      <td>Pocket Star</td>\n",
       "    </tr>\n",
       "    <tr>\n",
       "      <th>8</th>\n",
       "      <td>044023722X</td>\n",
       "      <td>1751</td>\n",
       "      <td>A Painted House</td>\n",
       "      <td>John Grisham</td>\n",
       "      <td>2001</td>\n",
       "      <td>Dell Publishing Company</td>\n",
       "    </tr>\n",
       "    <tr>\n",
       "      <th>9</th>\n",
       "      <td>0452282152</td>\n",
       "      <td>1719</td>\n",
       "      <td>Girl with a Pearl Earring</td>\n",
       "      <td>Tracy Chevalier</td>\n",
       "      <td>2001</td>\n",
       "      <td>Plume Books</td>\n",
       "    </tr>\n",
       "  </tbody>\n",
       "</table>\n",
       "</div>"
      ],
      "text/plain": [
       "         ISBN  BookRating  \\\n",
       "0  0316666343  4348         \n",
       "1  0385504209  3320         \n",
       "2  0312195516  2457         \n",
       "3  059035342X  2400         \n",
       "4  0142001740  2296         \n",
       "5  0060928336  2120         \n",
       "6  0446672211  1847         \n",
       "7  0671027360  1831         \n",
       "8  044023722X  1751         \n",
       "9  0452282152  1719         \n",
       "\n",
       "                                                          BookTitle  \\\n",
       "0  The Lovely Bones: A Novel                                          \n",
       "1  The Da Vinci Code                                                  \n",
       "2  The Red Tent (Bestselling Backlist)                                \n",
       "3  Harry Potter and the Sorcerer's Stone (Harry Potter (Paperback))   \n",
       "4  The Secret Life of Bees                                            \n",
       "5  Divine Secrets of the Ya-Ya Sisterhood: A Novel                    \n",
       "6  Where the Heart Is (Oprah's Book Club (Paperback))                 \n",
       "7  Angels &amp; Demons                                                \n",
       "8  A Painted House                                                    \n",
       "9  Girl with a Pearl Earring                                          \n",
       "\n",
       "        BookAuthor YearOfPublication                Publisher  \n",
       "0  Alice Sebold     2002              Little, Brown            \n",
       "1  Dan Brown        2003              Doubleday                \n",
       "2  Anita Diamant    1998              Picador USA              \n",
       "3  J. K. Rowling    1999              Arthur A. Levine Books   \n",
       "4  Sue Monk Kidd    2003              Penguin Books            \n",
       "5  Rebecca Wells    1997              Perennial                \n",
       "6  Billie Letts     1998              Warner Books             \n",
       "7  Dan Brown        2001              Pocket Star              \n",
       "8  John Grisham     2001              Dell Publishing Company  \n",
       "9  Tracy Chevalier  2001              Plume Books              "
      ]
     },
     "execution_count": 24,
     "metadata": {},
     "output_type": "execute_result"
    }
   ],
   "source": [
    "# Based on Country\n",
    "\n",
    "def GetTop10BooksByCountry(country) :\n",
    "    ratings_users_df = pd.merge(ratings_df,users_df,on='UserID')\n",
    "    ratings_users_books_df = pd.merge(ratings_users_df,books_df,on='ISBN')\n",
    "    ratings_users_books_df_country = ratings_users_books_df.loc[ratings_users_books_df['Country'] == country]\n",
    "    ratings = pd.DataFrame(ratings_users_books_df_country.groupby(by=['ISBN'])['BookRating'].sum())\n",
    "    ratings.sort_values('BookRating',ascending=False,inplace=True)\n",
    "    top10_country = pd.merge(ratings,books_df,on='ISBN')\n",
    "    \n",
    "    return top10_country\n",
    "\n",
    "\n",
    "GetTop10BooksByCountry('usa').head(10)"
   ]
  },
  {
   "cell_type": "code",
   "execution_count": 25,
   "metadata": {},
   "outputs": [
    {
     "data": {
      "text/html": [
       "<div>\n",
       "<style scoped>\n",
       "    .dataframe tbody tr th:only-of-type {\n",
       "        vertical-align: middle;\n",
       "    }\n",
       "\n",
       "    .dataframe tbody tr th {\n",
       "        vertical-align: top;\n",
       "    }\n",
       "\n",
       "    .dataframe thead th {\n",
       "        text-align: right;\n",
       "    }\n",
       "</style>\n",
       "<table border=\"1\" class=\"dataframe\">\n",
       "  <thead>\n",
       "    <tr style=\"text-align: right;\">\n",
       "      <th></th>\n",
       "      <th>ISBN</th>\n",
       "      <th>BookRating</th>\n",
       "      <th>BookTitle</th>\n",
       "      <th>BookAuthor</th>\n",
       "      <th>YearOfPublication</th>\n",
       "      <th>Publisher</th>\n",
       "    </tr>\n",
       "  </thead>\n",
       "  <tbody>\n",
       "    <tr>\n",
       "      <th>0</th>\n",
       "      <td>0316666343</td>\n",
       "      <td>149</td>\n",
       "      <td>The Lovely Bones: A Novel</td>\n",
       "      <td>Alice Sebold</td>\n",
       "      <td>2002</td>\n",
       "      <td>Little, Brown</td>\n",
       "    </tr>\n",
       "    <tr>\n",
       "      <th>1</th>\n",
       "      <td>0312195516</td>\n",
       "      <td>107</td>\n",
       "      <td>The Red Tent (Bestselling Backlist)</td>\n",
       "      <td>Anita Diamant</td>\n",
       "      <td>1998</td>\n",
       "      <td>Picador USA</td>\n",
       "    </tr>\n",
       "    <tr>\n",
       "      <th>2</th>\n",
       "      <td>0142001740</td>\n",
       "      <td>102</td>\n",
       "      <td>The Secret Life of Bees</td>\n",
       "      <td>Sue Monk Kidd</td>\n",
       "      <td>2003</td>\n",
       "      <td>Penguin Books</td>\n",
       "    </tr>\n",
       "    <tr>\n",
       "      <th>3</th>\n",
       "      <td>0452282152</td>\n",
       "      <td>100</td>\n",
       "      <td>Girl with a Pearl Earring</td>\n",
       "      <td>Tracy Chevalier</td>\n",
       "      <td>2001</td>\n",
       "      <td>Plume Books</td>\n",
       "    </tr>\n",
       "    <tr>\n",
       "      <th>4</th>\n",
       "      <td>0060928336</td>\n",
       "      <td>93</td>\n",
       "      <td>Divine Secrets of the Ya-Ya Sisterhood: A Novel</td>\n",
       "      <td>Rebecca Wells</td>\n",
       "      <td>1997</td>\n",
       "      <td>Perennial</td>\n",
       "    </tr>\n",
       "    <tr>\n",
       "      <th>5</th>\n",
       "      <td>0440211727</td>\n",
       "      <td>86</td>\n",
       "      <td>A Time to Kill</td>\n",
       "      <td>JOHN GRISHAM</td>\n",
       "      <td>1992</td>\n",
       "      <td>Dell</td>\n",
       "    </tr>\n",
       "    <tr>\n",
       "      <th>6</th>\n",
       "      <td>059035342X</td>\n",
       "      <td>81</td>\n",
       "      <td>Harry Potter and the Sorcerer's Stone (Harry Potter (Paperback))</td>\n",
       "      <td>J. K. Rowling</td>\n",
       "      <td>1999</td>\n",
       "      <td>Arthur A. Levine Books</td>\n",
       "    </tr>\n",
       "    <tr>\n",
       "      <th>7</th>\n",
       "      <td>0804106304</td>\n",
       "      <td>79</td>\n",
       "      <td>The Joy Luck Club</td>\n",
       "      <td>Amy Tan</td>\n",
       "      <td>1994</td>\n",
       "      <td>Prentice Hall (K-12)</td>\n",
       "    </tr>\n",
       "    <tr>\n",
       "      <th>8</th>\n",
       "      <td>0316601950</td>\n",
       "      <td>76</td>\n",
       "      <td>The Pilot's Wife : A Novel</td>\n",
       "      <td>Anita Shreve</td>\n",
       "      <td>1999</td>\n",
       "      <td>Back Bay Books</td>\n",
       "    </tr>\n",
       "    <tr>\n",
       "      <th>9</th>\n",
       "      <td>067976402X</td>\n",
       "      <td>75</td>\n",
       "      <td>Snow Falling on Cedars</td>\n",
       "      <td>David Guterson</td>\n",
       "      <td>1995</td>\n",
       "      <td>Vintage Books USA</td>\n",
       "    </tr>\n",
       "  </tbody>\n",
       "</table>\n",
       "</div>"
      ],
      "text/plain": [
       "         ISBN  BookRating  \\\n",
       "0  0316666343  149          \n",
       "1  0312195516  107          \n",
       "2  0142001740  102          \n",
       "3  0452282152  100          \n",
       "4  0060928336  93           \n",
       "5  0440211727  86           \n",
       "6  059035342X  81           \n",
       "7  0804106304  79           \n",
       "8  0316601950  76           \n",
       "9  067976402X  75           \n",
       "\n",
       "                                                          BookTitle  \\\n",
       "0  The Lovely Bones: A Novel                                          \n",
       "1  The Red Tent (Bestselling Backlist)                                \n",
       "2  The Secret Life of Bees                                            \n",
       "3  Girl with a Pearl Earring                                          \n",
       "4  Divine Secrets of the Ya-Ya Sisterhood: A Novel                    \n",
       "5  A Time to Kill                                                     \n",
       "6  Harry Potter and the Sorcerer's Stone (Harry Potter (Paperback))   \n",
       "7  The Joy Luck Club                                                  \n",
       "8  The Pilot's Wife : A Novel                                         \n",
       "9  Snow Falling on Cedars                                             \n",
       "\n",
       "        BookAuthor YearOfPublication               Publisher  \n",
       "0  Alice Sebold     2002              Little, Brown           \n",
       "1  Anita Diamant    1998              Picador USA             \n",
       "2  Sue Monk Kidd    2003              Penguin Books           \n",
       "3  Tracy Chevalier  2001              Plume Books             \n",
       "4  Rebecca Wells    1997              Perennial               \n",
       "5  JOHN GRISHAM     1992              Dell                    \n",
       "6  J. K. Rowling    1999              Arthur A. Levine Books  \n",
       "7  Amy Tan          1994              Prentice Hall (K-12)    \n",
       "8  Anita Shreve     1999              Back Bay Books          \n",
       "9  David Guterson   1995              Vintage Books USA       "
      ]
     },
     "execution_count": 25,
     "metadata": {},
     "output_type": "execute_result"
    }
   ],
   "source": [
    "# Based on Country and State\n",
    "\n",
    "def GetTop10BooksByCountryState(country,state) :\n",
    "    ratings_users_df = pd.merge(ratings_df,users_df,on='UserID')\n",
    "    ratings_users_books_df = pd.merge(ratings_users_df,books_df,on='ISBN')\n",
    "    ratings_users_books_df_country = ratings_users_books_df.loc[ratings_users_books_df['Country'] == country]\n",
    "    ratings_users_books_df_country_state = ratings_users_books_df_country.loc[ratings_users_books_df['State'] == state]\n",
    "    \n",
    "    ratings = pd.DataFrame(ratings_users_books_df_country_state.groupby(by=['ISBN'])['BookRating'].sum())\n",
    "    ratings.sort_values('BookRating',ascending=False,inplace=True)\n",
    "    top10_country = pd.merge(ratings,books_df,on='ISBN')\n",
    "    \n",
    "    return top10_country\n",
    "\n",
    "\n",
    "GetTop10BooksByCountryState('usa','washington').head(10)"
   ]
  },
  {
   "cell_type": "markdown",
   "metadata": {},
   "source": [
    "## Collaborative Filtering based Recommendation\n",
    "\n",
    "This has mainly two methods :\n",
    "\n",
    "- Memory-based: This approach uses the memory of previous users interactions to compute users similarities based on items they've interacted (user-based approach) or compute items similarities based on the users that have interacted with them (item-based approach).\n",
    "\n",
    "- Model-based: This approach, models are developed using different machine learning algorithms to recommend items to users. There are many model-based CF algorithms, like neural networks, bayesian networks, clustering models, and latent factor models such as Singular Value Decomposition (SVD) and, probabilistic latent semantic analysis.\n",
    "\n",
    "\n",
    "- Below implementation is based on \"Memory-based\" approach\n",
    ">  Say we want to decide if we can recommend book1 to user1 .\n",
    ">  - Find other k-Users with similar behavior as user1. Using cosine similarity or Pearson correlations of users.\n",
    ">  - Find the Weighted average of the ratings for the k-users for the book1.\n",
    ">  - If the rating obtained is higher then we can recommend book1 to user1."
   ]
  },
  {
   "cell_type": "code",
   "execution_count": 26,
   "metadata": {},
   "outputs": [
    {
     "data": {
      "text/plain": [
       "(array([1.        , 0.09387204, 0.08966543, 0.0840238 , 0.07830615,\n",
       "        0.07687119, 0.07345007, 0.07037493, 0.069867  , 0.06832764,\n",
       "        0.06740861]),\n",
       " array([[ 17, 140,  28, 128, 281, 150,  94,  32, 182, 171, 146]],\n",
       "       dtype=int64))"
      ]
     },
     "execution_count": 26,
     "metadata": {},
     "output_type": "execute_result"
    }
   ],
   "source": [
    "# Get similar users.\n",
    "from sklearn.neighbors import NearestNeighbors\n",
    "\n",
    "def findksimilarusers(userid, ratings, metric='cosine', k=10):\n",
    "    similarities=[]\n",
    "    indices=[]\n",
    "    loc = ratings.index.get_loc(userid)\n",
    "    model_knn = NearestNeighbors(metric = metric, algorithm = 'brute')\n",
    "    model_knn.fit(ratings)\n",
    "    \n",
    "    distances, indices = model_knn.kneighbors(ratings.iloc[loc, :].values.reshape(1, -1), n_neighbors = k+1)\n",
    "    similarities = 1-distances.flatten()\n",
    "\n",
    "    return similarities,indices\n",
    "\n",
    "findksimilarusers(11676,rating_matrix)"
   ]
  },
  {
   "cell_type": "code",
   "execution_count": 27,
   "metadata": {},
   "outputs": [],
   "source": [
    "def CollabarativeFilteringBasedPrediction(userid,isbn,ratings,metric):\n",
    "    prediction=0\n",
    "    user_loc = ratings.index.get_loc(userid)\n",
    "    item_loc = ratings.columns.get_loc(isbn)\n",
    "    similarities, indices=findksimilarusers(userid, ratings,metric) #similar users based on cosine similarity\n",
    "    mean_rating = ratings.iloc[user_loc,:].mean() #to adjust for zero based indexing\n",
    "    sum_wt = np.sum(similarities) - 1\n",
    "    product=1\n",
    "    wtd_sum = 0 \n",
    "    \n",
    "    for i in range(0, len(indices.flatten())):\n",
    "        if indices.flatten()[i] == user_loc:\n",
    "            continue;\n",
    "        else: \n",
    "            ratings_diff = ratings.iloc[indices.flatten()[i],item_loc]-np.mean(ratings.iloc[indices.flatten()[i],:])\n",
    "            product = ratings_diff * (similarities[i])\n",
    "            wtd_sum = wtd_sum + product\n",
    "    \n",
    "    #in case of very sparse datasets, using correlation metric for collaborative based approach may give negative ratings\n",
    "    #which are handled here as below\n",
    "    if prediction <= 0:\n",
    "        prediction = 1   \n",
    "    elif prediction >10:\n",
    "        prediction = 10\n",
    "    \n",
    "    prediction = int(round(mean_rating + (wtd_sum/sum_wt)))\n",
    "    #print(\"\\nPredicted rating for user {0} -> item {1}: {2}\".format(userid,isbn,prediction))\n",
    "\n",
    "    return prediction"
   ]
  },
  {
   "cell_type": "code",
   "execution_count": 28,
   "metadata": {},
   "outputs": [
    {
     "name": "stdout",
     "output_type": "stream",
     "text": [
      "\n",
      "Predicted rating for user 11676 -> item 0001056107: 2\n"
     ]
    }
   ],
   "source": [
    "userid = 11676\n",
    "isbn = '0001056107'\n",
    "pred_rating = CollabarativeFilteringBasedPrediction(userid,isbn,rating_matrix,'cosine')\n",
    "print(\"\\nPredicted rating for user {0} -> item {1}: {2}\".format(userid,isbn,pred_rating))"
   ]
  },
  {
   "cell_type": "code",
   "execution_count": 29,
   "metadata": {},
   "outputs": [],
   "source": [
    "# among top10_books_Pop_based , how many we can recommend to userid 11676\n",
    "def top10BookRecommendationsCollabarativeFilteringBased(userid,books,ratings,metric):\n",
    "    cols = ['ISBN','Title','Predicted_rating']\n",
    "    recommendedBooks = pd.DataFrame(columns=cols)\n",
    "    count1 = 0\n",
    "    for i in range(0,len(books)) :\n",
    "        pred_rating = CollabarativeFilteringBasedPrediction(userid,books[i],ratings,metric)\n",
    "        if count1 >= 10:\n",
    "            break\n",
    "   \n",
    "        if pred_rating > 3:\n",
    "            title = (books_df[books_df['ISBN'] == books[i]]['BookTitle']).values[0]\n",
    "            row_dict = {'ISBN': books[i], 'Title': title, 'Predicted_rating': pred_rating}\n",
    "            recommendedBooks.loc[len(recommendedBooks)] = row_dict\n",
    "            count1 += 1\n",
    "    print(\"Count {0}\".format(count1))\n",
    "    recommendedBooks.sort_values(by='Predicted_rating',ascending=False,inplace=True)\n",
    "    return recommendedBooks"
   ]
  },
  {
   "cell_type": "code",
   "execution_count": 30,
   "metadata": {},
   "outputs": [
    {
     "name": "stdout",
     "output_type": "stream",
     "text": [
      "Count 10\n",
      "As per Content Based approach. Following books are recommended to user 11676 from popular books...\n",
      "\n",
      "1.1st to Die: A Novel\n",
      "2.The Lovely Bones: A Novel\n",
      "3.The Red Tent (Bestselling Backlist)\n",
      "4.House of Sand and Fog\n",
      "5.Summer Sisters\n",
      "6.A Time to Kill\n",
      "7.White Oleander : A Novel (Oprah's Book Club)\n",
      "8.The Pelican Brief\n",
      "9.One for the Money (Stephanie Plum Novels (Paperback))\n",
      "10.The Hours: A Novel\n"
     ]
    }
   ],
   "source": [
    "# Below are the recommended Books for the user based on cosine similarty\n",
    "userid = 11676\n",
    "popular_books = list(top10_books_Pop_based['ISBN'])\n",
    "recommendedBooks = top10BookRecommendationsCollabarativeFilteringBased(userid,popular_books,rating_matrix,'cosine')\n",
    "print(\"As per Content Based approach. Following books are recommended to user {0} from popular books...\\n\".format(userid))\n",
    "for i in range(0,len(recommendedBooks)):\n",
    "     print(\"{0}.{1}\".format(i+1,recommendedBooks.iloc[i].Title))"
   ]
  },
  {
   "cell_type": "code",
   "execution_count": 31,
   "metadata": {},
   "outputs": [
    {
     "name": "stdout",
     "output_type": "stream",
     "text": [
      "Count 10\n",
      "As per Content Based approach. Following books are recommended to user 11676 from popular books...\n",
      "\n",
      "1.Two for the Dough\n",
      "2.The Red Tent (Bestselling Backlist)\n",
      "3.She's Come Undone (Oprah's Book Club (Paperback))\n",
      "4.1st to Die: A Novel\n",
      "5.White Oleander : A Novel (Oprah's Book Club)\n",
      "6.The Pelican Brief\n",
      "7.The Client\n",
      "8.Cold Mountain : A Novel\n",
      "9.Harry Potter and the Goblet of Fire (Book 4)\n",
      "10.The Alienist\n"
     ]
    }
   ],
   "source": [
    "# Below are the recommended Books for the user based on correlation similarty\n",
    "userid = 11676\n",
    "popular_books = list(top10_books_Pop_based['ISBN'])\n",
    "recommendedBooks = top10BookRecommendationsCollabarativeFilteringBased(userid,popular_books,rating_matrix,'correlation')\n",
    "print(\"As per Content Based approach. Following books are recommended to user {0} from popular books...\\n\".format(userid))\n",
    "for i in range(0,len(recommendedBooks)):\n",
    "     print(\"{0}.{1}\".format(i+1,recommendedBooks.iloc[i].Title))"
   ]
  },
  {
   "cell_type": "markdown",
   "metadata": {},
   "source": [
    "###### - Below implementation is based on \"Memory-based\" approach"
   ]
  },
  {
   "cell_type": "code",
   "execution_count": 32,
   "metadata": {},
   "outputs": [],
   "source": [
    "from surprise import Reader, Dataset, SVD\n",
    "from surprise.model_selection import cross_validate"
   ]
  },
  {
   "cell_type": "code",
   "execution_count": 33,
   "metadata": {},
   "outputs": [],
   "source": [
    "# surprise reader API to read the dataset\n",
    "reader = Reader()"
   ]
  },
  {
   "cell_type": "code",
   "execution_count": 34,
   "metadata": {},
   "outputs": [
    {
     "data": {
      "text/html": [
       "<div>\n",
       "<style scoped>\n",
       "    .dataframe tbody tr th:only-of-type {\n",
       "        vertical-align: middle;\n",
       "    }\n",
       "\n",
       "    .dataframe tbody tr th {\n",
       "        vertical-align: top;\n",
       "    }\n",
       "\n",
       "    .dataframe thead th {\n",
       "        text-align: right;\n",
       "    }\n",
       "</style>\n",
       "<table border=\"1\" class=\"dataframe\">\n",
       "  <thead>\n",
       "    <tr style=\"text-align: right;\">\n",
       "      <th></th>\n",
       "      <th>UserID</th>\n",
       "      <th>ISBN</th>\n",
       "      <th>BookRating</th>\n",
       "    </tr>\n",
       "  </thead>\n",
       "  <tbody>\n",
       "    <tr>\n",
       "      <th>8</th>\n",
       "      <td>276744</td>\n",
       "      <td>038550120X</td>\n",
       "      <td>7</td>\n",
       "    </tr>\n",
       "    <tr>\n",
       "      <th>16</th>\n",
       "      <td>276747</td>\n",
       "      <td>0060517794</td>\n",
       "      <td>9</td>\n",
       "    </tr>\n",
       "    <tr>\n",
       "      <th>19</th>\n",
       "      <td>276747</td>\n",
       "      <td>0671537458</td>\n",
       "      <td>9</td>\n",
       "    </tr>\n",
       "    <tr>\n",
       "      <th>20</th>\n",
       "      <td>276747</td>\n",
       "      <td>0679776818</td>\n",
       "      <td>8</td>\n",
       "    </tr>\n",
       "    <tr>\n",
       "      <th>24</th>\n",
       "      <td>276748</td>\n",
       "      <td>0747558167</td>\n",
       "      <td>6</td>\n",
       "    </tr>\n",
       "  </tbody>\n",
       "</table>\n",
       "</div>"
      ],
      "text/plain": [
       "    UserID        ISBN  BookRating\n",
       "8   276744  038550120X  7         \n",
       "16  276747  0060517794  9         \n",
       "19  276747  0671537458  9         \n",
       "20  276747  0679776818  8         \n",
       "24  276748  0747558167  6         "
      ]
     },
     "execution_count": 34,
     "metadata": {},
     "output_type": "execute_result"
    }
   ],
   "source": [
    "ratings_df.head()"
   ]
  },
  {
   "cell_type": "code",
   "execution_count": 35,
   "metadata": {},
   "outputs": [],
   "source": [
    "data = Dataset.load_from_df(ratings_df[['UserID', 'ISBN', 'BookRating']], reader)"
   ]
  },
  {
   "cell_type": "code",
   "execution_count": 36,
   "metadata": {},
   "outputs": [
    {
     "data": {
      "text/plain": [
       "{'test_rmse': array([3.2164605 , 3.21984938, 3.22568522, 3.22660658, 3.22037436]),\n",
       " 'test_mae': array([2.81198617, 2.81262851, 2.81780396, 2.82308638, 2.81527229]),\n",
       " 'fit_time': (32.20826721191406,\n",
       "  31.4189715385437,\n",
       "  31.359018325805664,\n",
       "  32.03388166427612,\n",
       "  32.245545864105225),\n",
       " 'test_time': (1.2355499267578125,\n",
       "  0.9273254871368408,\n",
       "  0.9137136936187744,\n",
       "  0.9452617168426514,\n",
       "  0.9381532669067383)}"
      ]
     },
     "execution_count": 36,
     "metadata": {},
     "output_type": "execute_result"
    }
   ],
   "source": [
    "svd = SVD()\n",
    "cross_validate(svd, data, measures=['RMSE', 'MAE'])"
   ]
  },
  {
   "cell_type": "code",
   "execution_count": 37,
   "metadata": {},
   "outputs": [],
   "source": [
    "trainset = data.build_full_trainset()\n",
    "#svd.train(trainset)"
   ]
  },
  {
   "cell_type": "code",
   "execution_count": 38,
   "metadata": {},
   "outputs": [],
   "source": [
    "def top10BookRecommendationsCFModelBased(userid,books):\n",
    "    cols = ['ISBN','Title','Predicted_rating']\n",
    "    recommendedBooks = pd.DataFrame(columns=cols)\n",
    "    count2 = 0\n",
    "    for i in range(0,len(books)) :\n",
    "        pred_rating = int(svd.predict(userid, books[i]).est)\n",
    "        if count2 >= 10:\n",
    "            break\n",
    "   \n",
    "        if pred_rating > 4:\n",
    "            title = (books_df[books_df['ISBN'] == books[i]]['BookTitle']).values[0]\n",
    "            row_dict = {'ISBN': books[i], 'Title': title, 'Predicted_rating': pred_rating}\n",
    "            recommendedBooks.loc[len(recommendedBooks)] = row_dict\n",
    "            count2 += 1\n",
    "    print(\"Count {0}\".format(count2))\n",
    "    recommendedBooks.sort_values(by='Predicted_rating',ascending=False,inplace=True)\n",
    "    return recommendedBooks"
   ]
  },
  {
   "cell_type": "markdown",
   "metadata": {},
   "source": [
    "###### Below are the recommended Books for the user based on model based CF"
   ]
  },
  {
   "cell_type": "code",
   "execution_count": 39,
   "metadata": {},
   "outputs": [
    {
     "name": "stdout",
     "output_type": "stream",
     "text": [
      "Count 10\n",
      "As per Content Based approach. Following books are recommended to user 11676 from popular books...\n",
      "\n",
      "1.The Da Vinci Code\n",
      "2.The Red Tent (Bestselling Backlist)\n",
      "3.Harry Potter and the Sorcerer's Stone (Harry Potter (Paperback))\n",
      "4.The Secret Life of Bees\n",
      "5.Wild Animus\n",
      "6.Divine Secrets of the Ya-Ya Sisterhood: A Novel\n",
      "7.Where the Heart Is (Oprah's Book Club (Paperback))\n",
      "8.Girl with a Pearl Earring\n",
      "9.Angels &amp; Demons\n",
      "10.A Painted House\n"
     ]
    }
   ],
   "source": [
    "userid = 11676\n",
    "popular_books = list(top10_books_Pop_based['ISBN'])\n",
    "recommendedBooks = top10BookRecommendationsCFModelBased(userid,popular_books)\n",
    "print(\"As per Content Based approach. Following books are recommended to user {0} from popular books...\\n\".format(userid))\n",
    "for i in range(0,len(recommendedBooks)):\n",
    "     print(\"{0}.{1}\".format(i+1,recommendedBooks.iloc[i].Title))"
   ]
  },
  {
   "cell_type": "markdown",
   "metadata": {},
   "source": [
    "## Content Based recommendations.\n",
    ">  Say we want to decide if we can recommend book1 to user1.\n",
    ">  - Find other Users history of the ratings, for similar k-books.Using cosine similarity or Pearson correlations of books.\n",
    ">  - Find the Weighted average of the ratings for the k-books by user1.\n",
    ">  - If the rating obtained is higher ( > 6) then we can recommend book1 to user1."
   ]
  },
  {
   "cell_type": "code",
   "execution_count": 40,
   "metadata": {},
   "outputs": [
    {
     "data": {
      "text/plain": [
       "(array([1.        , 0.99227788, 0.87811408, 0.73582366, 0.70710678,\n",
       "        0.70710678, 0.70710678, 0.70710678, 0.70710678, 0.70710678,\n",
       "        0.70710678]),\n",
       " array([[    4, 37447, 30531,  1306, 11227, 17050, 14528, 27358, 36819,\n",
       "          4755,  4740]], dtype=int64))"
      ]
     },
     "execution_count": 40,
     "metadata": {},
     "output_type": "execute_result"
    }
   ],
   "source": [
    "from sklearn.neighbors import NearestNeighbors\n",
    "\n",
    "def findksimilarbooks(isbn, ratings, metric='cosine', k=10):\n",
    "    similarities=[]\n",
    "    indices=[]\n",
    "    ratings=ratings.T\n",
    "    loc = ratings.index.get_loc(isbn)\n",
    "    model_knn = NearestNeighbors(metric = metric, algorithm = 'brute')\n",
    "    model_knn.fit(ratings)\n",
    "    \n",
    "    distances, indices = model_knn.kneighbors(ratings.iloc[loc, :].values.reshape(1, -1), n_neighbors = k+1)\n",
    "    similarities = 1-distances.flatten()\n",
    "\n",
    "    return similarities,indices\n",
    "\n",
    "findksimilarbooks('0001056107',rating_matrix)"
   ]
  },
  {
   "cell_type": "code",
   "execution_count": 41,
   "metadata": {},
   "outputs": [],
   "source": [
    "def ContentBasedPrediction(userid , isbn, ratings,metric):\n",
    "    prediction= wtd_sum =0\n",
    "    user_loc = ratings.index.get_loc(userid)\n",
    "    book_loc = ratings.columns.get_loc(isbn)\n",
    "    #Get similar books\n",
    "    similarities,indices = findksimilarbooks(isbn,rating_matrix,metric)\n",
    "    \n",
    "    # predict userid rating for this isbn based on userid ratings's for similar books\n",
    "    sum_wt = np.sum(similarities)-1\n",
    "    product=1\n",
    "    for i in range(0, len(indices.flatten())):\n",
    "        if indices.flatten()[i] == book_loc:\n",
    "            continue;\n",
    "        else:\n",
    "            product = ratings.iloc[user_loc,indices.flatten()[i]] * (similarities[i])\n",
    "            wtd_sum = wtd_sum + product                              \n",
    "    prediction = int(round(wtd_sum/sum_wt))\n",
    "    \n",
    "    if prediction <= 0:\n",
    "        prediction = 1   \n",
    "    elif prediction >10:\n",
    "        prediction = 10\n",
    "    \n",
    "    return prediction"
   ]
  },
  {
   "cell_type": "code",
   "execution_count": 42,
   "metadata": {},
   "outputs": [
    {
     "name": "stdout",
     "output_type": "stream",
     "text": [
      "\n",
      "Predicted rating for user 11676 -> item 0001056107: 1\n"
     ]
    }
   ],
   "source": [
    "userid = 11676\n",
    "isbn = '0001056107'\n",
    "pred_rating = ContentBasedPrediction(userid,isbn,rating_matrix,'cosine')\n",
    "print(\"\\nPredicted rating for user {0} -> item {1}: {2}\".format(userid,isbn,pred_rating))"
   ]
  },
  {
   "cell_type": "code",
   "execution_count": 43,
   "metadata": {},
   "outputs": [],
   "source": [
    "# among top10_books_Pop_based , how many we can recommend to userid 11676\n",
    "def top10BookRecommendationsContentBased(books,userid,ratings,metric):\n",
    "    cols = ['ISBN','Title','Predicted_rating']\n",
    "    recommendedBooks = pd.DataFrame(columns=cols)\n",
    "    count = 0\n",
    "    for book in books :\n",
    "        pred_rating = ContentBasedPrediction(userid,book,ratings,metric)\n",
    "        if count >= 10:\n",
    "            break\n",
    "        if pred_rating > 6:\n",
    "            title = (books_df[books_df['ISBN'] == book]['BookTitle']).values[0]\n",
    "            row_dict = {'ISBN': book, 'Title': title, 'Predicted_rating': pred_rating}\n",
    "            recommendedBooks.loc[len(recommendedBooks)] = row_dict\n",
    "            count += 1\n",
    "\n",
    "    recommendedBooks.sort_values(by='Predicted_rating',ascending=False,inplace=True)\n",
    "    return recommendedBooks"
   ]
  },
  {
   "cell_type": "markdown",
   "metadata": {},
   "source": [
    "##### Below are the recommended Books for the user based on cosine similarty"
   ]
  },
  {
   "cell_type": "code",
   "execution_count": 44,
   "metadata": {},
   "outputs": [
    {
     "name": "stdout",
     "output_type": "stream",
     "text": [
      "As per Content Based approach. Following books are recommended to user 11676 from popular books...\n",
      "\n",
      "1.Timeline\n",
      "2.Fast Food Nation: The Dark Side of the All-American Meal\n",
      "3.Harry Potter and the Chamber of Secrets (Book 2)\n",
      "4.1st to Die: A Novel\n",
      "5.Confessions of a Shopaholic (Summer Display Opportunity)\n",
      "6.Harry Potter and the Sorcerer's Stone (Harry Potter (Paperback))\n",
      "7.Wild Animus\n",
      "8.Where the Heart Is (Oprah's Book Club (Paperback))\n",
      "9.The Five People You Meet in Heaven\n",
      "10.Left Behind: A Novel of the Earth's Last Days (Left Behind No. 1)\n"
     ]
    }
   ],
   "source": [
    "userid = 11676\n",
    "popular_books = list(top10_books_Pop_based['ISBN'])\n",
    "recommendedBooks = top10BookRecommendationsContentBased(popular_books,userid,rating_matrix,'cosine')\n",
    "print(\"As per Content Based approach. Following books are recommended to user {0} from popular books...\\n\".format(userid))\n",
    "for i in range(0,len(recommendedBooks)):\n",
    "     print(\"{0}.{1}\".format(i+1,recommendedBooks.iloc[i].Title))"
   ]
  },
  {
   "cell_type": "markdown",
   "metadata": {},
   "source": [
    "##### Below are the recommended Books for the user based on correlation similarty"
   ]
  },
  {
   "cell_type": "code",
   "execution_count": 45,
   "metadata": {},
   "outputs": [
    {
     "name": "stdout",
     "output_type": "stream",
     "text": [
      "As per Content Based approach. Following books are recommended to user 11676 from popular books...\n",
      "\n",
      "1.Timeline\n",
      "2.Fast Food Nation: The Dark Side of the All-American Meal\n",
      "3.The Red Tent (Bestselling Backlist)\n",
      "4.Harry Potter and the Sorcerer's Stone (Harry Potter (Paperback))\n",
      "5.Wild Animus\n",
      "6.Where the Heart Is (Oprah's Book Club (Paperback))\n",
      "7.The Five People You Meet in Heaven\n",
      "8.Harry Potter and the Chamber of Secrets (Book 2)\n",
      "9.Jurassic Park\n",
      "10.1st to Die: A Novel\n"
     ]
    }
   ],
   "source": [
    "userid = 11676\n",
    "popular_books = list(top10_books_Pop_based['ISBN'])\n",
    "# Below are the recommended Books for the user 11676\n",
    "recommendedBooks = top10BookRecommendationsContentBased(popular_books,userid,rating_matrix,'correlation')\n",
    "print(\"As per Content Based approach. Following books are recommended to user {0} from popular books...\\n\".format(userid))\n",
    "for i in range(0,len(recommendedBooks)):\n",
    "     print(\"{0}.{1}\".format(i+1,recommendedBooks.iloc[i].Title))"
   ]
  },
  {
   "cell_type": "markdown",
   "metadata": {},
   "source": [
    "## Final Report :\n",
    "\n",
    "- Did the popularity based recommendation analysis using country and the state infomation of the user.\n",
    "\n",
    "- Based above analysis there is significant difference between Content Based recommendations and Collaborative Filtering based Recommendation.\n",
    "\n",
    "- Did both memory based and model based analysis for Collaborative Filtering Recommendations.\n",
    "\n",
    "- Content Based recommendations predicted the higher rating compared to Collaborative Filtering , for same users and isbn.\n",
    "\n",
    "- Imporvements to this model :\n",
    "    - Use different model other than knn and compare the model parameters\n",
    "    - ensemble models.\n",
    "    - Hybrid approach (using Content Based recommendations and Collaborative Filtering based Recommendations.)\n",
    "\n",
    "- Refrences :\n",
    "    - https://www.coursera.org/lecture/machine-learning-with-python/collaborative-filtering-4y9I1\n",
    "    - https://towardsdatascience.com/my-journey-to-building-book-recommendation-system-5ec959c41847\n",
    "    - https://github.com/jalajthanaki/Movie_recommendation_engine/blob/master/Movie_recommendation_engine.ipynb"
   ]
  }
 ],
 "metadata": {
  "kernelspec": {
   "display_name": "Python 3",
   "language": "python",
   "name": "python3"
  },
  "language_info": {
   "codemirror_mode": {
    "name": "ipython",
    "version": 3
   },
   "file_extension": ".py",
   "mimetype": "text/x-python",
   "name": "python",
   "nbconvert_exporter": "python",
   "pygments_lexer": "ipython3",
   "version": "3.7.6"
  }
 },
 "nbformat": 4,
 "nbformat_minor": 4
}
